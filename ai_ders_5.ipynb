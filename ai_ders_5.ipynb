{
  "nbformat": 4,
  "nbformat_minor": 0,
  "metadata": {
    "colab": {
      "provenance": []
    },
    "kernelspec": {
      "name": "python3",
      "display_name": "Python 3"
    },
    "language_info": {
      "name": "python"
    }
  },
  "cells": [
    {
      "cell_type": "markdown",
      "source": [],
      "metadata": {
        "id": "tXpppu9qYZpF"
      }
    },
    {
      "cell_type": "markdown",
      "source": [
        "*31.10.2024* - IGU MYO BILGISAYAR TEKNOLOJISI PROGRAMI AI DERSI (5.Hafta )"
      ],
      "metadata": {
        "id": "TFOWtau3YVRI"
      }
    },
    {
      "cell_type": "code",
      "source": [
        "import sys\n",
        "print(sys.version)"
      ],
      "metadata": {
        "colab": {
          "base_uri": "https://localhost:8080/"
        },
        "id": "j3bwdLawYtnK",
        "outputId": "8eb07a38-088c-46d1-a835-ef8a39e4b01a"
      },
      "execution_count": 10,
      "outputs": [
        {
          "output_type": "stream",
          "name": "stdout",
          "text": [
            "3.10.12 (main, Sep 11 2024, 15:47:36) [GCC 11.4.0]\n"
          ]
        }
      ]
    },
    {
      "cell_type": "code",
      "source": [
        "from google.colab import drive\n",
        "drive.mount('/content/drive')"
      ],
      "metadata": {
        "colab": {
          "base_uri": "https://localhost:8080/"
        },
        "id": "9vcdRMAaY81g",
        "outputId": "653260a9-48e8-4e25-fe1f-e179593847d7"
      },
      "execution_count": 11,
      "outputs": [
        {
          "output_type": "stream",
          "name": "stdout",
          "text": [
            "Mounted at /content/drive\n"
          ]
        }
      ]
    },
    {
      "cell_type": "code",
      "source": [
        "import os\n",
        "os.chdir('/content/drive/My Drive/Ai_Ders_IGU_2024')\n",
        "!pwd"
      ],
      "metadata": {
        "colab": {
          "base_uri": "https://localhost:8080/"
        },
        "id": "97wPedNMZgPl",
        "outputId": "fa3039d3-4ebe-4b97-f122-a29f386ddd5e"
      },
      "execution_count": 12,
      "outputs": [
        {
          "output_type": "stream",
          "name": "stdout",
          "text": [
            "/content/drive/My Drive/Ai_Ders_IGU_2024\n"
          ]
        }
      ]
    },
    {
      "cell_type": "markdown",
      "source": [
        "## - < FEATURE > NEDİR  >"
      ],
      "metadata": {
        "id": "oqaP6GnmmS7q"
      }
    },
    {
      "cell_type": "markdown",
      "source": [
        "*featurlar kırmızı alan ile çevrilmiş yani veri kümesinde bir gözlemi tanımlayan veya açıklayan bir değişkendir.*\n",
        "![img-00.png](data:image/png;base64,iVBORw0KGgoAAAANSUhEUgAAAtAAAAD/CAYAAADYMuFWAAAAAXNSR0IArs4c6QAAAARnQU1BAACxjwv8YQUAAAAJcEhZcwAADsMAAA7DAcdvqGQAADw4SURBVHhe7Z07jiy7lXaFCwgagrzryNEQNAWNoCG3TQE9Arm6lmbQQhvnAgLaEH63rLbrDKH8M5D6g68gubn5ikdWRuQyFnQzGMEgP+69+WUoT8Vv/vSnP31Kfv75ZwAAAAAAUMBAAwAAAABMgIEGAAAAAJgAAw0AAAAAMIFqoAEAAAAAQAcDDQAAAAAwAQYaAAAAAGACDDQAAAAAwAQYaAAAgAn+449//Pzv3/3u839/8xuoYPT5zz/8QdUP4A5goIHNYBA2BAAw/M9vf6vWCMj5108/qfoB3IHbGGhM4BiaCWQzGIcNAQC02gA6mn4Ad+A2BhoTOI40gdo5UCfVji9uOSNP6dFsGyPawmNI10Vrf3XQB16Bwwz0n//852H+8pe/2P/V+tlKmrDQp6ZdehwiNY344lbSe0qPZtvh/wF5DtI10dpfnRF9Xv2LNF+Ir89uA22M8P/93/9t4q9//ava5xbSwNTaoa5R7ThEahqlxyGSaiTRzodxNE3hsbAebUb04Ys0X4ivzm4D/Y9//MOaYfO/M/z73/+2aH1uIQ1KrR3qGtWOQ6SmUe34KzKqxeh5EGlpxk9izkV7Upi2p8fBMaJPes4ro2kD1+AQA73FCJvrjPHW2rZwqYD8+9vnx4/3z29a24nUNKodh0hNo9rxV2RUi9HznpFv3398frz9oradSUsznuSdT+vfjaTHwTGiz8g5u7F77Y/PH9+/6e2H8Mvn28ePz/dftTadzXP/Iu8AOof8BnrL75nD76G1ti1sDsgRfBKmG6fZSH9sDWSRBL+8fSx9mf4SPt4+f0mvOYCaRrXjdlxiHNqxr8MVrh8/Pj7f/q61H0dNo9rxP/367tbx0ML97fNdxMlXmLkaVS0EtfNcTs1tRF3CBnqQZs9ooNM2OI+a5unxc/LeIHL/VEO4n6o+CSPn9OjmY8tAH2ZGH2igF8ycD62RsJnD/hGh5J///Kf9x4Ja2xnsCcgupih+fHx+rEm4FDPz+SADHTjbnNY0qh1/egNtdFzG8m0Z09mmpqZR7bgrcmbTO6JAB0x/yZcFvzk8SzGtaSHRz/NamVw70hxYjaRm279wPbuBDsfMOFMdbd4eGot97D23rGWlPn4Fmrat4+flfZrn7vNXxOEoNX1SRs7psSsfD4uzxxpo50ee5SHWa3OKgTZPls3POsxPNI58ytxiV0D2sJv625IkPtmWz65IphuxK2rVp1ymj6Rd28x0c2qS09wn7V9eG57E1vs21DSqHR8x0HajXu+b6lEWlXJDzTUr5p5pVpqetT9TCOW1tjgmfVsSXTp9S2oa6cdjbLgNNT0uC608Jtay0Csda9mf1SRcK9oMtfUy1328vdn+rE5Bn/T+IoZljOtalKjnmb7tGpo5pfG7U7PCMJdx2Y4FmVvpvGNfUddwvWlb/vst6hjOSe/dW6+Aqlmjzd6riJ20f/d5vXeWP34N0hxK29e1Ss+Xumn5HhD3Xs8Rx1eSvrO8VuqczPv0/mbcy+dU85750rStH486HJn3qo7FGsg4ldoIbddr45jDuWbsqy4bNDPo+syfk+dHHGd+PCHRKeakHLPQYiX0H/M6XFOuQdlHtr7NmjI29zrl+OBrOO0JtPkLG+EfCgYTbf7XPJkOxzW2Gu59AdkhKSImaL99N8UpLTwuoGOSuuRaA1xu4vZzWfxtkmZF0RAKY+1evl0WWIWaRrXj2njSY7Ldfl7nVSa5bRcFrlqMpWa2IKWapf3LTUBoZK+V+rf6LqlppB43/aUayaKerpWIhbxdrrWYp5yXnIdob62X+29zro8nc142NqlxiaqFgnZejIUybnZpJtdaXNuLBXnvOE7z2Wu15Ho4Fs+XOrpzsniQY2mgadZqKzTLapLQKIx1Pd+dG3UQ5yfxHc8vY0PGfsDVz/A5HZdnRBf1HNmX+5yN28wrjEnmi4KmbfV4oouce7EeYvx5e653HnPp9UFzuX4SoUPRlq9ddj+pWXbfOqo+gu45y73ekzFbTbO4q2gjqJ6jxpDB6ZnGZL6eIh/k+VIjJc66c+9Qyy14LLsMdPrXNDTCn6sz/52a6LQtZc9PPvYGZIs1WE1iLMX/3QZuUnjMcZHYaYAXCVxJXK1AdJN5YBMI1DSqHbf3McVTYscoNytDOtZeEXK6lPON5+ZFTytS+Qa0ni8LmBhrt2+Fmkba8XIsyfqIz/lYzDjFWiabcphHXIv0XDeHfF7pWNrrFdcm0SIbq7te9p+iaaFRnmf6jusl42SXZvbaVLNcg2YsyLVbyHPZnZuNdb233k82Nz+2dDw1Ss3abTa3armm1Yxsrvl6GLJxZzGpn19c0yDXdEHRvUA5x94vG9dCOtbBcado2taOZ/OQ4xOf87hrxXASR2l7OnZtPRNUXVZKDbJ5FJrVxpOj6SMZOSdDWfMidhSq51TjrJxjO/7z8/O1LdsN03Mv6McunM8uA917mmwwxticl16nmei9v5feH5B1YvKkiWD+Oy1gcYNe8Qk3ukHoha6dzPo1OjWNase1vuMxLYGlPvVxp+cHvdJzjWaZluKcoq+sqJmxiU0g0bvXt0ZNo/K41EXqIDVKzrVxoYwtm1c4381R7zcSY6+9XlHPpB8Zp9n4yvgttdApzpMbUpEfOzSz7em889hoxkIxDpnLuuZFW9KPGrfhvqkGgkKzTlsxr7Rvqbchm2sZKzHvl8/F9VpsafnuSefsGamPGco56v3SsQ6OO0XTVj8u+5KxsT2G85hLr0liKptXjo0FbR0spQbZ/QrN3DyK8QhKfbac4+6V65KvuaqNoHpONc7k2onYqmgSzrd6Z2N2pP31595nZO5wLqf9hMMYYmOMjVHW2lMTfcQ/NjwiIGuY5CkDNUmaIqFyikCvJK5eCGeTuU5No9pxbTzxmCm8+bhcMQ7HOuOW+E0knN8uDq7vskiFjaBsT8expfDUNCqOm/VI7ruSzHvVwcw51bda0AP5Zpevj5tzPq/0WHu94tok69YYjz1ftBVaVJDnjWw4mzWz7blBiHPtxILSd35+olVyTtGW9JPeW2J1EPkWkJr12mxflfu4GBWaZcfyODNk4y5qTnl+cU3AapFrVqxBb00Nyjn2fkK/7NjguFM0bdXjJ+a9qmM6l2JeOer1K6UG2XoUfbdiPlLoo9A7p8gHRacidhSq51R1L+eYadjRZGRMvbkP0YkbOJ/T/hHhyJNlc55Ba5vlkICsYJKnTIg0aZwRqSWNTb414dy52hO8/LxAJ5k7906paVQ7ro0nPSYLXH6+G/c6rrDBNAt5Mk97fm1zK4t+dr/OhtLuW6emkTyer43H3i9Zb7+Bmr8ekq5rmMP4ZpdrZu+d3kfct7VecdxJvLUKtJzTgtSiRn5eGd8GO9ZUh62a2TnUNWvHgqZvmmv62Iu2REc1Pjzpesi2XLN+W6FfhpuXnEf8LOLMjl9qFtbe669oqM5VroftK723QayRRqJpfiy9TlnrTF8xTwVNW+24OleZI2Z8m2O4MS//Odcwobg+Je+riHGhmWsXuitIfTR65+QxHOIsv3crZwKmH10bqWNA5IOP0XUsVs8YN3acaT/2/G1xNYcbp76u8AhOewJtni4f8WR5lGMCUkdPQBm8LhltonliW0h+g0ksc24sBKFoZaxFoUySsljLe+sFrqZR7bhWnOSxUDzU+/rCHeZjNo447lKvQuNQuFZ8/6KoB+LYUr0jWaGp9V2hplF+vFbQykLtdNPuWY496mL6yQuzi53Yj/scri2LeG297HV2bZI52PVLNF+vM5R951rkbSnZeek9Uuz98uObNEtjULYFWrGQti36GJ3i9bX1Fm3JHKPOcq3EfQWZZgNtVqusRkhE/mXnlrkp55jGUf4Xicq1sCT9ZzG45Ovb8rm9JjHWSs0MiW5ivbN+TZ9Z3SjzSaJpWx6vxYHTMT2+KYYNYl61e8XrxT1kHqQ6iBg3Y1zv3cqNBrk+/XOye4RYkXN+i3kU+xG6rXFWxrBhNM6yey9a5XtXHoemT6NZtiYd3dK5r9dsoYhpeCSnGehHc1hA3piaRrXjl0UrKragjRV/jZpGteOvyKgWo+dBpKVZq20bfWP5KtS0rR2/HRsN2og+I+fclePmXvvyBo9gt4H+29/+Vv2dc4ut19U4LiDvS02j2vGrYp8OiKJvn/zs+KZe06h2/BUZ1WL0PIi0NGu1bQMDHahpWzt+OzDQp/DKc78Tuw20+VN25rfOxhDPEP4BodbnFgjIPjWNasevi/J/I+8wz4aaRrXjr8ioFqPnQaSlWattGxjoQE3b2vHbgYE+hVee+53YbaDDC1PCPxqcQf55uz0QkH1qGtWOQ6SmUe34KzKqxeh5EGlp1mqDfdS0TY9Dm1S3FO3cV0TTBq7BIb+BNv9Y0GDM9AxaX1shIPvUNKodh0hNo/Q4RFKNJKPnQaSlWdoG55Fq/q+fflLPgZJUtxQ0dGjawDW45T8ihD5ot51UOzYBnVQjyeh5EGlpRgw+hlTz//r5Z/UcyPnb73+f6ZaChm194Pm5jYFmE5kD7baTascmUNLbFLRrYBypJzF4PhgdAJDcxkCziYwjNwO0G4eNdD98YduHpikAADyW2xhoALgGfGHbDl/gAACeg5sZ6NpbiY6g86anFq23QFna49bevlW+3cqz88+1PSNhftofi3dtG/7kln2xStDthD/Zla35TP95nBVvzurGkmOTZg1NshhLeOQf8N+81h1Ns7kJPeW8i/kOrEfIX02rPLe3v+jnOsg/MVmuZ2s9dtf4M/N+R99TNd6S9i/3poVUNxmjhkS3dt+ObHyVmvNctOOsnLNjuJ518l6uZ1HH4RbcykDbpFgLgysqxwSuS8aioG006PJak2xxnOW483aBKdprX75obBzXU2Lm9/H++S70Dzq517tOboS2+MVrXLE70LzYjXRyTBa3fjIW4rzN57Rfeb5nk2amLWrQ1URoeC471lpq5De+VZeZ/Cnm3FuP8PnNjT9biwUbJ1FjWxcuYU4ORGjQW49erWxyat5P5o8gn1eJiY0iflbyexeYeTfiqt33TeJSxplkqp518t7cK9Vrqm+4Evcx0EqQ2iJ2SOLLhPF9bzSqvWvbBrvNcXN+BtwG+f6rK1Bpkf/23a/HhuIk9Y33yc/bhhnrxmKpFPksVuxc83Yzlzw2DtKsc86e+J9lz1prmpbrH2nnj6gDnfUwfTn9tfgSm65hy/yujqJhSq+etdZScm7eCybX0syzVePN2OvjNPOoa2jH0tGw2nfn2sswEmej9UzpS+Z9GWcvltcvwn0MtPzWZzfOpWC2CssEtviGvmwCbS28pbGRyELfK64pvQ3nSkQdGprZtZgpTrIv9/mw/5vNF9c3sw42/hZG10PGcHHMjzV8tjGez/0wzZrnfNGGML3W5WZmPzfWpJk/xfr018OhGTWpoTvHjK1VG+6GXB9Jr57JWlnn5LyXTMaqmeczGmi3Pm+rVqfpdTLtOJutZ528t2sfdbIx2tAfrsv9DLQPXmd2ZxOjg00U0/eGPtdrO8mkbMI2+cO1hloh8HO/xQZs5xI2hZ1mMCP2ZQvbopcpdO0CO4Ff57jJ+GI71LczUXGe3lSJeInxIDbNwzRrj/kwrWaZXutkrCH/1hqhGA57XGrmtbB663pW12NFrms4ZuYS+zftJiavaFDm8HFtaaynuh4JSq2sE/PhlLzPaOePRowhj7g2jDmQx0iqp0Fo4nWM7Xmctvp2bUl/vTV5KsbibGsMtPM+qRuHxxc8C/cy0DKYaxvlBmwhCUamMEmT2OuVcQ0Vp1pxdsXiHptv3Oz0zwlWs9FN1BALm9woDtHOrK38gqQdq7HGsY9l83ld63ztQwF3uhynWRbrBS7O1H7PZnqtk00unY+6HiP54zSN57TWI0XTLG7uQ2t2W2rx1FmPoVqZ4tdK9HlY3ie082eEPK5KOtrYGtIxjNV9Me9b0+cMzc6nHWdzOdfJ+yw2Q9wd40Pgubj1b6CnjEuLWt+bk8IkrejPJ91IYbIJmxVXVwTqBfdieC2s8ZHI9dTWpoPd4DKtDjQudjwiLnbEoVnrNSaUmLOxYPo+SDOrTSOu1/spbaezYa2rmm3Mn+za1nokx/RN2sVcnu9KXXgBSkPWWQ8f67Mm7tS89/TyZ5QyRnNKzVI6caTVqIS0b20c7Xs/L9q49Xzt0Ml7GwNKnF1RM2hzHwMdvumtyXBg0PqCnRZamyQy8WxiyeQpKZJ2ZkMoxjK++V+XxkZn9ahsFrX18MfX/pSCuB0Zd1oc+ljtmKUiTuw402t8P+raz2tmY7qpg2YEH0hrrX1eFDlZ5Iecw0z+iGuH10PXza5vcv2mzfzqFGvaWQ+/zs1a+SV5P5I/Y3kf5ljNsyLuctS9aaVVMxZk33J9ivW6COq49bxc8etQaFnon2ta6N9bT7gsNzLQhlCgHIeY54AvvitagQrnVAp37VpXeCUhQfM5ycLpNuG03XGvZHUapHPS5y0KZG090jbLcZuow5sATxmHYU1lQRdrrYy7mHdtI5zVLGwWkqT/9sZ8HkNrXdvsLPl69DUJ58jcK/OquR4y7z3V+3+Bto8nX4vZetaulZ6vyPuB/BnO+6JdaibGLeNMzFtqmtejTt+GrH85tmelHWeGbj1r1JRm3g/UDbgHNzPQAAAAAADngoEGAAAAAJgAAw0AAAAAMAEGGgAAAABgAgw0AAAAAMAEGGgAAAAAgAkw0AAAAAAAE2CgAQAAAAAmuKGB9n9A/fCXEgz8wfka8o/sd/8wu9Z3f17hJQN3+aPt2UsTKvN252z44/5nvxwgW/OJ/kWs5GvZe+FC76UJDl2zdt/ZWiQ8Ktb6+dGgoenYvBq518nt3nrsmtez0ozhhNoLTwZy8ynzfnffrRqf7z+zcSTjXF2Tynpk1zb2n+fi5HrWyXtDtiaX0Q1muJeBtgXg/fPNBO6hAeuSsdh4ZeEfpLjWjzsUPduejn9kXuacj/fPdzHOy2Lms2rki2Gmt9tQ3t9MIZvcrGzxi9e4QnegebHrtWUDNfNMruv14+NiHbeNgSQ+xDynNJN9S4q+T0SMpciPJn7OISd645bt/t567pm+075cnK7mprceu+b1rIzGsNPu/fuia5rXQqMyN5817824Yl/TfTfjTMSVnUcS0yKO7L2TPuznxn7jqKyHObdZhy+COucEmZtNOnm/cI9chh43MtBLUPuAlQVkPzJhlKI0QX5tmXx5Mo/My4zPFFTX1y0MtEDO/dtS6K0+U4XPUXyBWfXLz9uGWYO58dTpjMvOXWycxbziWKY0E31L9sT/HL38aKPljFn/rL+EfF6d3FM0Svtur8e+eV0HPYZDDkqNern5vHkvmBpfJ84U8xfnosRRFmfu3DLO9P7KmM1Rx3cFlDmn9OadUdFv1di0X1EjmOaWv4E+I8ltgQlJYxNoa+GVJjcvdqGoa/93Um1espiesiF8MdU1tWsxs5FKjdxno3e+CW3EF1f7JMmv4/ZYbG/wRdH3cRnmYeNio2btDUXG7JmM54eGNo/63Orz0uPPx044bo1Ocn1zPfbN6zq4eWVzSgxhvhYTuflseS+ZHp9DizMZr/aziRV7npyXQRyzeofPft5p/FfXo0Qb3xVoz6ue9zpew0reu3u9rfF1WozBl4OBnsEXok3/9/x6bZJ4lpC8saCbQpd9o/Wo87KFOnwb1orpDfBGRJ3Xjo3UfSlyOrcL7AR+nePaKRvWILoBjkZLj8MYR9V7VjXr9e04TKshxvNDRc7Vx5I2/ta8WjXFtlnN8qdSjtp67JzXRShj2M035HKueWzr5uaz5X2GX9MN/Wpxto4x7CGm3c4/Mb3JNfazj6fQR5rbeXy11kPgcyfv95k5t54FndX/d0CpOdfRDUbBQA+SbQSFSZrEXh+SLiZ5TLC8qAXKecnz9OuujdOnqvXGjVSun1nfzeuZYtZWxp52rIMrzpohS3HarOudFeowT6WPIc1E393jZzGeHzXiRrewrMO35XO51u156TXFa+w333CftY/meuyf17OjxbA9lpiV/HPQaCA3ny3vE7K9YhItzkJcZcezmhLn5ub3bfmcaGP3m/DZx52/tr0eKe66o7V6HLX8bue9jte7kvdaTJ0RZ/D1YKBH0Ip1ZoJnMUkb+nPJmCdX2h4p5uU36FA4M46c/5fhipte0D3TG6nf4LI+3RocYlzseERcTBpoV5DH5pQW5tq8isI9qJlW9A/PrS7j+TGKmZdc69681HalBqTntdfj+Hk9E3oMuzmr9cqfW9OsyM1ny3uPvcfmfWEyzrK5pJg4CufX4szMu78e6fn1+10DszaH1LNO3mtro90brg8GegRvVNNCawulWuj6hUaOz35OClZt/P15Hb8hfB2DRbu1kdbWwx9fdVIK4nbkhqVtYGHjKsctY6GJmHsRk0rcatepqOeEjTc9dj5D+eHn2s4Pr1ERU/15qfe0cZNq5NfV999bj6F5XRA5rxb23HQ9RnOzFcO+j8fmvV/vZn/1vA/oMSBrYSteZVsekxY7b30MxXoU974oW+pZraYU+gmN5b1asQqX5kYGOhQnwVEbUijKrX7DObLYDFzrNh2tfWZe7txqQbgQmR4JYW56uyhStfVI2yzHbaIOv+l4yicPYU31gh7H5VnXWrbL68tYSWOhrVmv78qXxgdRzw9PbbPrrkVrXv3cKzTNYq29HsX1X6TtsfRiOMfOv1kv89xsx7C4/pF5H+JPosZDP28tmWa5rlkcZXMq83YktwNyPXS9r7DHHFDPqjVF0aUZw3W94drc8gk0AAAAAMBZYKABAAAAACbAQAMAAAAATICBBgAAAACYAAMNAAAAADABBhoAAAAAYAIMNAAAAADABBhoAAAAAIAJ7mWgxR+zP+yPvdf+SP7Eiw/cW6oq12n9hz/MPnHvcI/n/yP3IygvZMjmLF4+oL00ocWZf+hertlEnHRjuNO3/AP/1ReHFHOWL3PQNcn6n5nXAejjHiGPpVSTLC8Tgu6yvZpbrZd3LLRyM7vHbBxfmYpmeQzrLzvZrNmZeb+rb1nv5LzrMWzI9CjycqBWZnVFjP1MzU6jXc9kXgeG985mHe7tXXAXbmSgTcIkSWKT/rxktwk4WrjNWNZzfWKn15pknEgw9d7mHh/vn+9L38NF4KkxRaj+pjCzycZNxBUszSyq2OIXY8Nt2Ee9lcyMJY07t95jY+vFcKdvGwNJHIl5Bp3e3+RxBXvvXBMbd1+yEUyMu0Bo5De+ao4Umo20uXV5/77EkVYTqrmp1IKXoaKZiDubm1nM7dDs9LwX4x7u280pjY28xndi2Ggmzk316dZKq/lYzB+r2QNR6llGK+8LXOzGc8X6iFiA+3Ljn3C4QnGOmZQJNEexKZjkHTYm2r3DXMtCfF3mitDMF5ry3ANjxRbifNzmftmGNYwYV6dvG1fFvGKsfFvMiv3vkc1C3msqRo9latwSZeNsxUqpYUquZyD0p18b1lDJzcz4vBa6ZtKIGITmOzQr113k15FMxWoZV5kuW2K4kav5tUbz+jgfqtmZyHomaOe9QOnL6ISBfj0w0BuYSjaFosBNmBPt3rHIYaC1thypkfts/m+2bSZX4vsL62k3v9GNVCJjuNO3LexxHlYTLa4GNncZZ+7z26rVcXpNMDBuiToPM34134zejf6N3vK6xNzM5qbbdN/sGgdN75G7HaqalRrJY9s1k337XFquPyWOJ2PVxkmodz6Pw1jnYti3V9oMMSaXz/Ze759voc+s3wdrdiJabkY6eV/gdQg6FTV+bu+C63JbA22LRKOIbGc22QSiOKbH1gJWTT7l3r4AuvNlwbsyZq6pJg3NiwLWImrkNi23GbQL7DzrJrejkNZiuN133OSq87Exo+mVap63O62SY1ocn0113HXWdbUxsszB6JnljHJudjzRs5hvnm/F9c3cDP0m45iK46vS1sx+TmLefl5136NZvO+Zee/w45ztN8SomM86xoEY7ual1Mv3GQ1xOvZHanYG9XqWsnU+ITbLOjyxd8GluaWBdoGtFJcDsH1vNuYusXrf3mvjL+8dC5z++UbUNsrehlHgNwixDmaD6K3LGOkGFIvs7JroMdDpO9MizLO2yfaKuovV0Lemz3GaDTI07pygUZY3JpaKHM7nq+M0DXO2fScbb/7ZnRv7632uHbsXbc0MTgNnPIzW35bPYc33aBb7PSfvI9ZsTu4R2TXC1M7GcHU+Wq3U+lmPPU6z86nl90jeS7wutTosseuJib4jtzPQLpjPCtYtyRZw1+abRQVb6PRvtdm9fUG0xVVSFNerY+Yv1tXPf7aY281K2bS3ravAFst87WxMTqxHNYY7fdfmVegzaETTjdLeR8TuwzfSwXFn1DQTcxldo3htNBclyxj/Xz83S/0OjMOnpKOZuq4m7+P67dGslh9H6m3vUdTuDlpcp3E7FMOd/aVWK+1xMV5zv05NuWKMlrEznvcZnTqcnWtR9i64Bbcy0DaITwzUbrLZxNKKWKe4ZfhNRpw7lujXLW49bCFP51/bEFJq6+GPrzopBXEztq80BrX19MeUWG3GcKfvmkZFPGgbtkSe0/v8CFr3tG1i/haZe+5zrol2TKN9nl07GWsrSm7KuDsyDi9CWzNF7xHN7LF0zfPja38H6903z5W897GbzjPP5V4My3aB71+vlW5MsU18Plmzh6HWjnY+V2uK1SDtK6/DkqIuw224kYH2RURyVOAqRa7AFxuZSM4UiXEthL5ke1HoRu5tUTbpqxK0DAhN3WYlEQWysh5Zm+XYDaFY7+L+lY10IIbbfYd+I2ks6HEYxiDvLce2kGmmtJ9Ee9ye2mZnyecm86O+wbX1lNhxarFm0XMzn9sFjclOCs0GYqyr2VfkfYg/iZqfvdxaKOKxHsN6fsRz+rUy77vYf87S7FT69axrbBs1pdC8GsOiDW7Fbf8RIQAAAADAGWCgAQAAAAAmwEADAAAAAEyAgQYAAAAAmAADDQAAAAAwAQYaAAAAAGACDDQAAAAAwAQYaAAAAACACTDQAAAAAAAT3MpAyzcutd4aNov2tqfZ/rM+mm8+y9+aNDKv0PeRc/5a5JukFjLNxFviZt/2lL0tSn/j2VbKN3/N9C/nrbz5K7whS8xZf+NYEhOdN2T1xp21t97gdRLu/lvWqv6mtZ5msr3Mr9Zb3Hox/PWafgWl5umaTmq2MFXzTsz7PX0P7y/hHknu9mK4OKcWZ0rfI+vxnMi3iDZqWcJwLMk3T2aaXFUzmOW+T6BtgB9XIE2BK15xOoFN2E4S2SL6/X1Jvsa4i3m5QvHx9maTdmozeWpMEaq/NjZfD1ewhtdHaOg2r+NeUWvWets6uLUsNr5kQ7NjXeLoTRxXaeZAiJvcTFbHbTbX9X5+c+rd/zDc+r4vMT6f02KefuOrzrOlWTX3an33YzitCXKt70o7PwY0SzWypm8wd8X6HZv3+bhn+zbn9+uXucfH5/t3oYFEm2c3zmp9t9fjMvTipJX3BU6rah24i2bQ5cY/4ZBBvo+xAlfBJGfvG+iawL1x5+1mXG4zMsdbG9PVmCtCM+ajPPdY7doGoUW59nbzC2M1MeL/e2S+2bUKpo80pmfGLTflM/m2bOpWk6lNzqNsnC3t2pqJ9en23YphJebs/O6/8bbjrKWZuzarwxOaleuurMFRTMaqibve/hLG38vrvH0szup9t9fjMnTipKdpRkU/DPTrcV8DbTa3Azf4kQJXwyXnm3tqtxQzQ95X+g3WJF+j8FbndeJm8CXMFaFyc6zhtI46uc/lmmzHjGXrOth5hHnbQq331Z9vJ46U9plx25h+kIFemTQlBrkx2s8mB6s5NJ57/b5bMazdq7dm96AdZy3NFuyXlnC9z90nyfuMyVg1sdMcR/JlTcZdjoyhgThr9t1Zj4swp1kPHzshz61+UvPrawZ9bmagY1GMRfYY1s0xMFS0Hc4UJQkmjVG2MWvJPDIvc92xc/5a3Hyi5o0CVxSwFnEjdeviNtB2gZ0j9BuY3qDtfNpztvdojLc2nyyORfvwuBvG/lT2GOigqckz20+5wema1XOv33c7huUaOv3n5ndF2nE2kvfxnPHcOj/vIz5mJvrN8tKQXRvHvp5b6Vtra8dZr++JOvx0pGOvj3trDMQ1k7XkyprBDDf+CYcrDNPmZYi5AmkKlhxHPGaSLU0w+VlSm5dL2oebmkdRM8nTZs6v3XJNqqG2Rsfg1mW0b7u5ZU829GvtedX4G4sFuwGsX9wktXHPzedQthroZbzZPI2uxbxHNMtzb7zvpK3IdReLhvdfzedXe3LViSepWfbZ61eN4ZTH5X2Ww5vI9xdp8OTnSC2G63E23reniOGr0NZmfP8wKOvT6uOymkGPGxvogWKwg5m+tXPXwm2TKxa3jEr/+r23FIIrYeYnipA3z7MbYGk+XUE8S7vhTVoziDY+SlNVziFi42NkA8+elpaU43YxVrvv6Www0Jp+Wv6MapZdO9h3RInhFDO/XcbrmrTzI9Us/wIT28dy9xF5b+/RyKlRYhx5s2byriCPpdEYjnE23nekE8NPjBZnw5ql1PK+2s91NYM2N/9HhCeZIruRK30HMyw3ULnxN41AL9lq8zpxvk+A3ZjSAuXXoGlMa+vhj69aKQXxMGzfcj3DxiWOK3FVzDs9rhq18Tio97FQjNv1Wz3/EbTyxmtXaiXHrekzqpk8b6TvSG0tLc2acGPU/Ijkmvm8SWNQu94eE+clx9f1sZ+Py3s71mZ/lbyXKHUgRf+SNhjDnTjT+440Y/iZUefd0axWU4qYU+Iy4bKaQZcbGejy23S3mAwj+64UoFrhTtta11tMUivJuV4r5pX1Wznnish5CU3dZiURug6vx5Hm2ZuqZt+NjVTOOyu8sm9PMr9WsbabY+W63riLaz2PiDP93kK72mZnyecmx1zXbKSmNPruxHA+ryNj8Jnp5EdHs/L6Rg49Mu9D/EmyMdTyfnB/8Wgmdzzv23Mu+u6ux7PSj5OusW3UlKIm3UIzmOXWP+EAAAAAADgaDDQAAAAAwAQYaAAAAACACTDQAAAAAAATYKABAAAAACbAQAMAAAAATICBBgAAAACYAAMNAAAAADDBPQ1086UK25Av7ph9gYT8w+v6G/QaL9hovLAhG9uBc/5a5B/Cl3MTLx+Y/WP12R+7b7+4YBPZixUm+hcvZCjiTL6wofFH/rUYbcWxbMvGPXDfs3Hj27JWeSypr/NttK/Xq3Pe2/eeeV2TZpx5Mt1S3WUcGmZy/8y83913I8525r2jsb9k/cf2cq0c9Xs8C+2X0+yeV3M9ensX3IUbGmiXOO/fl2J2VtDa5JkokKawpmOpXG8L4DLu4lXePlnV5DZ9rxuILxq3ePORKUL1t2YZraIZcQVLMycqQn+38Rz4VjK7kU7Ex4pZv+S6oh8zz/SzW+847/D5zeoh48XFVxIbtv84b7OpjG4gdgN6WJy59X1f5jWVdxahkcylXm56jd6MdkU92dn3rnldl16c2diq1W6jYa2th9D/2LzP69V0380425f3AZf/yv5i7z0Yf0UMXwSvb3U9pubVW488FuC+3M5A2yJhCpDcvA5FJlCbwrho168JXLbNGJt1/krbtZgrQjOGrjzX3Gtc4zammI7HRhsxLhsjuSZmLqFwm7V35+rzSc+1iP6m4+xBBvrbd6/nls1b2TjT9W/n5vLfPpfUvNrV9855XZhmnBktWvWr194gXRuHnieHMLWmnTizfW3Pe8s6njwGZ+tVGdMXQdEwZWpenfVw61C/F9yHexnotGidaaBn+7bjiglmC3l2ffoNVhY4//nNbNbLdZZOIThr3g9lrgiVm2MNp3XcZNxno2tmLrfii6t9khTWa/N6GA2UsYb+rIHTNj95nceeH477vhLNjIbq5lsgNXwQaX5r7QpyY7Sf0zXp5mZynTh+VN9b5nVlWnHmNH1bc9KQ5aXRStOwy8l5L9m4plqc7c57f72bp99PwrV2nKP1Slx7IWSu5szOq7cepj8M9CtwKwNtCvNaDGdNbpdYcA3z5iG5XiZyNlatwOXXtDfiLzA2p2B08HpZGgWuuqFouHUwGlkdl75NzLQL7AR2LOmm7Nd9Q9+1dV6NWrVIO+30OIi6SuMQ9AjI9jA3y6G5NcgGU7Kuaxi7Gbc3DVG7Rm56NGNzVN9bzdZVacWZayvr3xrL/nO8ftSonJz3GdtzXouzrK0550rem/hc+xT7y0S9OkerM0n3kHp+bZ1XfT3S+7bvDdfmPgY6KxLK50NxRaYwGDWyTSBsqCHpREGTn4sNuXLMJ+3wmK6GLfRKIZIbbJegf7lxH6KdFncbYtEVZ7nG+eYWCng5dxcL6ka6auiLfHVcnXiyfcnxnYxd67nNaN3karWhmZsR24/Q6qi+t8zrPuRxpuVhKzf1PNE4Oe8TrEEXsTKKFmf78t4cS2NLfNZqk3ZM7ftK1Ma/ZV6j6+GxtfJV8/ve3MZA26K1BLHGGUlvk2bwW6sdW3auS0BbuG1ylWO22GtkAVywG266abgiMDqea1LTYX4DrK3HIXFSrM2CuiHVcQVZKbg2VvK+9Q1X2xSSmGueF2mbC2U9zmaL0axp5te/mZvrsYrOB/X92gY6j7NUP629QMu3CrX1OHJ/sPcYHI/GVJyN5L291oxJwWgxWK/0+10LLY42zWt4PQJfUCvhIdzuHxGuKEXgOCrGIxQrZQPIxmKLVq1wl8kmC3/+2Y1F3vNu1DSsbqyGynqE46v+SkHcjjRJmmlyxzSTbAtxrdjacaZtvp9i7bX4VM4t+ktotS18yYbaMpo+HsoxyfzItRnNTX2+x/TdnNfdkXEmtWhqU4l/22f9+Kq//XxU3vv1bvZXz/uAGmdFLs7kvcScU/bVrlcj/T45ahx15uXzdft6OIo6ALcBAz1EKHwRNel8gS4TafB6iyxwBnF90r8zXEmb59LFzhC0DAhN3WYlEbpV1yNpsxy3iTpcYQ79lyY/rKde0OO4PEkcF+udzk1q5omxIPtP7y/bhCay7wduCHqMC+1qm50ln1ueG63cLNss2T229j04r9vRiTNDFmu5HlKzMrcWviLvQ/xJsjHU8r4fZ/vyPsXoL++fr4nU9JoGUMZZmVfdeTVqytR6aHEIt+C+BhoAAAAA4AQw0AAAAAAAE2CgAQAAAAAmwEADAAAAAEyAgQYAAAAAmAADDQAAAAAwAQYaAAAAAGACDDQAAAAAwAQYaAAAAACACTDQAAAAAAATYKABAAAAACbAQAMAAAAATICBBgAAAACYAAMNAAAAADABBhoAAAAAYAIMNAAAAADABBhoAAAAAIAJMNAAAAAAABNgoAEAAAAAJsBAAwAAAABM8PIG+j/++MfP//7d7z7/9ze/gZ0YHf/zD394eY1rOgAAAMA9eHkD/T+//a1qgmAb//rpJzRe0HQAAACAe/DyBlozP7APNHZIHQAAAOAeYKAxPIfQ0rHVdjdeaa4AAACvCgYaw3MILR1bbXfjleYKAADwqmCgL2N4vn2+//jx+ePj7fMXtf0Yvn3/8fnx9ova1qKlY6vtbrzSXAEAAF4VDPSo4fn1/XTz2qZhoP/+9vnx4/3zmzy+gYcZaDvmZT4J2X2N3ln7x+fb333bwi9vH6J9QWiTn5Poo9w7a9+BOlcAAAC4FRjoUcPz5Qa6wWUNdGqK3ReE9d5Cb2eGyzna48q6mHnk5y/9f//m/vtAvSTqXAEAAOBWYKBHDU/PQMunmsGsGcy1y+f0iag0qc7w5YRzsiepab/hqXRBNKb22vSawjz+8vn2kV+fjy2/R81ct3RU2woDLcyw1Nt8HjXQSt8ZGGgAAADYAQZ61PA0DbQzme+/5p+zp6nGgAYjK81g9tkb2swoOwozHGgYwp6BtsY9ac+fQLuxxM9ynpGWjmrbpIG241T01wy0aqpTMNAAAACwAwz0qOFpGGjVsKXnF9caIxrNozSxNQNojx9poJXrMgNt2sU4amNo6ai22XsnBtp+Tsy5/VKx6BLQ5r2gaVXTb8XfK+u/df4E6lwBAADgVmCgRw1Pz0BLgzdhoO31q5GVT30jNfOqGeFAcU16rnJdZqCliQ0cZqDzfrMn21K/1vzEumjHMhp67UWdKwAAANwKDPSo4SlMcKRr4joGujCqrfs82kBXxiJp6ai22XvnP+HIyO7d+VIhx2j1bPSNgQYAAIAdYKBHDU/LTFpDVv4GOvs5QnZtaqCdOdR+VyypGmh5v4TcYLrz4tPc/Dp77vI5GlXXrhlXSUtHtW3KQPvPiulVDXT4HbnUPGiHgQYAAIAdYKBHDY81cMlTYkNq0LyJDm2Z6WwaaN+eXGtZz/dmULZLI531kRrT9Prl+K/CPKbXLX0aQ5ob5mC6I5pRb+mots0a6DAPP+9g9jO089f2ZM5irYr2HahzBQAAgFuBgf5yw+OMXm5K3bGRJ7/PQkvHVtvdeKW5AgAAvCoY6C83PPnPKCz+Can2pPdZaenYarsbrzRXAACAVwUDnRgeOIaWxrLtbrzSXAEAAF6VlzfQ//rpp8z0wH6kxq22u/FKcwUAAHhVXt5A/9fPP2emB/bxt9//vtA4bZdtd+OV5goAAPCqvLyBhvN5JVP5SnMFAAB4VTDQcDqpqXwlNC0AAADg+mCg4XRe9XfmmhYAAABwfW5moMXLM9S39j0v5jXa6iuoxYs/5J+3c9d5speJDNDsW76MpPHikwav+Dtz7bfgAAAAcA9uZaCtkVxN8/hrqL8e/7eg37S38xkTmxyzbw4Un9c5e8M7/MWh07fEth/9Cmz3Vsb377XXlFcwxr/6ZcH0Gcfp3lqYj9vGyuyXDQAAAICF+xho+yQ1N3/WOF3AJH1bzKMdtzKHEuXFKwn75tzu243vWAMdvvTYcR9moAVS15lrAQAAAAT3MdDm6WhqiuzTUvOzg6OfmJ7IkxvoaZPbI3mi/UgD7e71lv085UqvTQcAAICv5X4G2pqlYJyNIewZ0idiwEA3f3rg5159gtxB79uZ6j2/gdZxPzcJY91koNdxGWpflMqftdh5pnPZqRsAAAC8Fvcy0NJIWWP0HE+gnWmLqE88OwbamszqfJzR3foktd13oP2EegZpmKcNtKA2fu1LgTkmddKOAQAAAGjc+jfQxc86np2GgXYGsWau/VPijQa03XfOMUbTPxX2XyZyxsZRoHxZcl9aSlOtmXUMNAAAAIxyHwMdTNlqmN3nS5miioHeb56DYZ3tW9B5Qr4HzdQanAnuPfWu/Uyj8kRdzuPEeQEAAMD9uJGBNuRPNq9inp2JjeN2BEOX/gY5wX9R0K+VhrNmoNt9l+3nmcxZAy3nna21NcSxbSXtf/3JjwHzDAAAAOPczEADAAAAAJwLBhoAAAAAYAIMNAAAAADABBhoAAAAAIAJMNAAAAAAABNgoAEAAAAAJsBAAwAAAABMgIEGAAAAAJjghgbav/zjSq/w9riXhigv9RAvBpEvFQkvG7HMzrvT93kvHMlfejPdt/aylPRFKbI900V5gcwF4wUAAAC+hnsZaGv23j/fzFvqLmWInKF7fzOmTxpJYzSTY3aO4vNqHMtXWrfp9G3HFV+H7d7+V3k99l782g33bQxydY3NuNN5OF3i2wrzeQEAAADMcCMDvZgib6is0buQgf723Zs9+9Q0NX4a3mzLJ8WefXNv9z02vo3Yvg8y0Epf5ik9BhoAAACO4Ja/gb6agV55YQNtxz385HyhZaDDk/jQ3nmyDgAAADADBvqZGDCo9vfOtbnZ6xsGuEOz7+mfh4zgDLv7HfKkMfdzjb9jLg2xjQO1Lb2v4ZwvBQAAAHBPMNAPIvuHfgvx5wQJHQPtDGHtyakzhWq/A7T77pnrI+g8/e6Qjz83+8FIV/sunlADAAAA1MFAPxMNA+1MYM3k+SeqG58Ot/sO5r9uro/C3GfrFwCnnR+j8g8S2zFh9MNAAwAAwBgY6GeiYqD3m2f/RHa678eZ59rcw5P79pNp8fOS4oly++cn5z9dBwAAgDtxIwMdTKLgAsbImVg59mAAvUGW+Hnp10rDWTPQ7b6dqVXaNz7pzpH31k18zUDLecsn14Uu6Zitwa60AQAAAHS45RNoAAAAAICzwEADAAAAAEyAgQYAAAAAmAADDQAAAAAwAQYaAAAAAGACDDQAAAAAwAQYaAAAAACACTDQAAAAAAATYKABAAAAACa4l4EWb85rv/75+XBv3VPeyNeZV3hbn2X2zYujmoW39x321j755kj9TYRVtLckVt82qPcd3lZ4tTgBAACAr+VGBtoYssQoWQM1acq+DPda6/c3YwrlmDvzMp9X4+hN6bDJHdXMjO/j8/37YjjPeu21vff75zetTcMY6OqXBTPe2JczymnfTqePRW+rOwYaAAAAJrjxTzi8Kb2AOfq2GFNrWu1TVc3AprTnZc3i7FPoFb1v+4R7Mc6277MMtJ37UQZaIHQ183BzvE6MAAAAwPOAgX4mntFAJ0+GzzTQ033vMNARDDQAAADMc1sDbZ+abjaSX8SAgW7Oy16/3RCWfbufOoT+jjfQzsC2fqdcxc81/s659vS69bMWDDQAAADMc0sDbY3ezM8BHkD2D/0WPt5+Kc/rGOj2vJwZVPsdQOtbGubjDXTKPjNb06b9RQoDDQAAAPPczkA7IzX5NPNZaBjo9rz8k9yN5lbv2z+5Nf0WnKOvMbtbvwA47XID7b60tL5IYaABAABgnlsZ6EubZ0PFQO83z8EMz/adY8896wl0Ze7hyX3b5JY/0+ibZwMGGgAAAOa5kYH2RlJygd9BOxMrxx7MZHte+rXSFNYM9JxmxxpoeW/dxNcMtJx39uTamvHYthLGbv9hZNmOkQYAAIARbvuPCAEAAAAAzgADDQAAAAAwAQYaAAAAAGACDDQAAAAAwAQYaAAAAACACTDQAAAAAAATYKABAAAAACbAQAMAAAAATHArAx1eunHVF2O48SsvFBEvBpHzyuY9++KYmb4t+gtP5pGvCt/ab/0ti+vc5Mtf5ItWLvCyHQAAAHge7vsE2pqko8ze2fhXSr9pYzYGMTlm36InPq8GsXyldZtO3wvGQD/ki4i9d+/V2yXu7Yjvi375uO3xxRi/mS8AHT3sl4RhzQAAAODVufFPOIwpzU3Vs/Ltux/nkOn3ZrtiaoNx3PZEtez7YQbazn3SQK96ibU2x70hHjHHx76iHAAAAO7OfQ20eaJ5tf9r/oUN9LyJdU/bP95+Wf5bGOiEvoF2/TzkSwIAAADcgpsZaP8ThsUEGi5nigYMtDWENYNsr98+b61ve8zraXCGNb9uO86wu757XxwE2RekDQba/mTE3/tqX7QAAADgS7nxTzjSJ5Ra+2MZMqIdA22f0lZ/5uDM6Nb5tvsO7LtHG9f3mPmXhnmDgU7Z+PtrAAAAeE1ubKAv+NvWhoF2Brdmrp353DrXdt85xpCe9aVkuO/06bFEaDBkoBsGHAAAAEBy839EeLGfcVQM9H7zHH7aMtu3wBrXk4xmZe7hyX17Hfc9gbYa8DMOAAAAGORGBjr//XPfdD0PzsTmY49G1RtkiTd8+rVy7jUD3e67bD/yZw6y74YBXtrnDHRlXsFIyyfYmGcAAACY4NY/4QAAAAAAOBoMNAAAAADABBhoAAAAAIAJMNAAAAAAABNgoAEAAAAAJsBAAwAAAABMgIEGAAAAAJgAAw0AAAAAMME9DbR9q931XpDhXhqivFAkzMcjXyoSXjay6aUgM31b9BeezCNffLO138pLYrKXpZR979IMAAAAXpobGmhnqN6/LwbqMsbIvTnv/U17nbWZT3JMvk7bfF5fVe3NZOfV1ZFO3wvGaD7kjY723vNvOrRvYlzWunwTYezLva0x6XuXZgAAAPDq3M5AW7NkjLMxSRcx0N++e/NnnwbnBrbEm+2KqV3nr7T1Kft+mIG2c5800KteZtwN3Tq67tMMAAAAXo17GejUKF3IQK+8sIG24556CuyeHH+8/bL8NwYaAAAAHsetDLQxe85QLZ9vaqDtb3dr87LXbze8Wt/22NJnYNX3EJxhd333vjgIsvVtGejOTzR2agYAAACvx30MtDTMT2agh4zoyJPS6s8cnBndanDbfQf23aON63vMyErDXDfQzS8cp84HAAAA7sptDLQ0qCmXebrYMNDO4NbMtTOCW/8hXLvvHKPzWYZzuG/z5Uis8UqigYuJ9hcO/vEgAAAAzHK7f0S4cqOfcOw3z/5nDNN9C6xxHTx3lsrcwxej9peg8gk05hkAAADOAgP9BDgT64xiJBhCb/Ykfm76tdJw1gx0u++yffKvZDSRfevGfJOB9r9rjn17vGEe0wwAAABA574GGgAAAADgBDDQAAAAAAATYKABAAAAACbAQAMAAAAATICBBgAAAACYAAMNAAAAADABBhoAAAAAYAIMNAAAAADABBhoAAAAAIAJMNAAAAAAABNgoAEAAAAAJsBAAwAAAABMgIEGAAAAAJgAAw0AAAAAMAEGGgAAAABgAgw0AAAAAMAEGGgAAAAAgAkw0AAAAAAAE2CgAQAAAAAmwEADAAAAAEyAgQYAAAAAmAADDQAAAAAwzJ8+/z9iAk40NpvqcwAAAABJRU5ErkJggg==)"
      ],
      "metadata": {
        "id": "fGJEBhpTljkO"
      }
    },
    {
      "cell_type": "markdown",
      "source": [
        "# Makine Öğrenimi ile Regresyon Modeli Oluşturma"
      ],
      "metadata": {
        "id": "I3RCIt0dmpJ7"
      }
    },
    {
      "cell_type": "code",
      "source": [
        "from sklearn.datasets import fetch_california_housing\n",
        "## -- ^ Bu veri seti, Kaliforniya'daki konut özelliklerini,fiyatlarını içerir ve regresyon problemleri için örnektir.\n",
        "from sklearn.model_selection import train_test_split\n",
        "## -- ^ Veriyi eğitim(Modelin öğrenmesi) ve test (Modelin performansını değerlendirmek) setlerine ayırmak için kullanılan fonksiyonu içe aktarır.\n",
        "from sklearn.linear_model import LinearRegression\n",
        "## -- ^ İki değişken arasındaki ilişkiyi ölçmek için kullanılan analiz metodudur.\n",
        "from sklearn.metrics import mean_squared_error, r2_score\n",
        "## -- ^ Tahmin edilen değerler ile gerçek değerler arasındaki ortalama kare hatayı hesaplar.\n",
        "## -- ^ r2_score: Modelin, veriyi ne kadar iyi açıkladığını gösteren ölçüdür. 1'e yakın değerler modelin veriyi çok iyi açıkladığını gösterir\n",
        "import pandas as pd\n",
        "## -- ^ Veri analizi ve manipülasyonu için kullanılan bir kütüphanedir."
      ],
      "metadata": {
        "id": "TBLzsuUTZqA8"
      },
      "execution_count": 13,
      "outputs": []
    },
    {
      "cell_type": "code",
      "source": [
        "housing = fetch_california_housing()\n",
        "df = pd.DataFrame(housing.data, columns=housing.feature_names)\n",
        "df['PRICE'] = housing.target ## -- housing.target içindeki konut fiyatlarını df'ine PRICE adında yeni bir sütun olarak ekler.\n",
        "df.head()"
      ],
      "metadata": {
        "colab": {
          "base_uri": "https://localhost:8080/",
          "height": 206
        },
        "id": "s1yGf7lKkYxg",
        "outputId": "437f2442-f67a-48cf-82c2-0e1b73461fec"
      },
      "execution_count": 14,
      "outputs": [
        {
          "output_type": "execute_result",
          "data": {
            "text/plain": [
              "   MedInc  HouseAge  AveRooms  AveBedrms  Population  AveOccup  Latitude  \\\n",
              "0  8.3252      41.0  6.984127   1.023810       322.0  2.555556     37.88   \n",
              "1  8.3014      21.0  6.238137   0.971880      2401.0  2.109842     37.86   \n",
              "2  7.2574      52.0  8.288136   1.073446       496.0  2.802260     37.85   \n",
              "3  5.6431      52.0  5.817352   1.073059       558.0  2.547945     37.85   \n",
              "4  3.8462      52.0  6.281853   1.081081       565.0  2.181467     37.85   \n",
              "\n",
              "   Longitude  PRICE  \n",
              "0    -122.23  4.526  \n",
              "1    -122.22  3.585  \n",
              "2    -122.24  3.521  \n",
              "3    -122.25  3.413  \n",
              "4    -122.25  3.422  "
            ],
            "text/html": [
              "\n",
              "  <div id=\"df-996806fc-b610-480a-96b2-91f6de9e56d3\" class=\"colab-df-container\">\n",
              "    <div>\n",
              "<style scoped>\n",
              "    .dataframe tbody tr th:only-of-type {\n",
              "        vertical-align: middle;\n",
              "    }\n",
              "\n",
              "    .dataframe tbody tr th {\n",
              "        vertical-align: top;\n",
              "    }\n",
              "\n",
              "    .dataframe thead th {\n",
              "        text-align: right;\n",
              "    }\n",
              "</style>\n",
              "<table border=\"1\" class=\"dataframe\">\n",
              "  <thead>\n",
              "    <tr style=\"text-align: right;\">\n",
              "      <th></th>\n",
              "      <th>MedInc</th>\n",
              "      <th>HouseAge</th>\n",
              "      <th>AveRooms</th>\n",
              "      <th>AveBedrms</th>\n",
              "      <th>Population</th>\n",
              "      <th>AveOccup</th>\n",
              "      <th>Latitude</th>\n",
              "      <th>Longitude</th>\n",
              "      <th>PRICE</th>\n",
              "    </tr>\n",
              "  </thead>\n",
              "  <tbody>\n",
              "    <tr>\n",
              "      <th>0</th>\n",
              "      <td>8.3252</td>\n",
              "      <td>41.0</td>\n",
              "      <td>6.984127</td>\n",
              "      <td>1.023810</td>\n",
              "      <td>322.0</td>\n",
              "      <td>2.555556</td>\n",
              "      <td>37.88</td>\n",
              "      <td>-122.23</td>\n",
              "      <td>4.526</td>\n",
              "    </tr>\n",
              "    <tr>\n",
              "      <th>1</th>\n",
              "      <td>8.3014</td>\n",
              "      <td>21.0</td>\n",
              "      <td>6.238137</td>\n",
              "      <td>0.971880</td>\n",
              "      <td>2401.0</td>\n",
              "      <td>2.109842</td>\n",
              "      <td>37.86</td>\n",
              "      <td>-122.22</td>\n",
              "      <td>3.585</td>\n",
              "    </tr>\n",
              "    <tr>\n",
              "      <th>2</th>\n",
              "      <td>7.2574</td>\n",
              "      <td>52.0</td>\n",
              "      <td>8.288136</td>\n",
              "      <td>1.073446</td>\n",
              "      <td>496.0</td>\n",
              "      <td>2.802260</td>\n",
              "      <td>37.85</td>\n",
              "      <td>-122.24</td>\n",
              "      <td>3.521</td>\n",
              "    </tr>\n",
              "    <tr>\n",
              "      <th>3</th>\n",
              "      <td>5.6431</td>\n",
              "      <td>52.0</td>\n",
              "      <td>5.817352</td>\n",
              "      <td>1.073059</td>\n",
              "      <td>558.0</td>\n",
              "      <td>2.547945</td>\n",
              "      <td>37.85</td>\n",
              "      <td>-122.25</td>\n",
              "      <td>3.413</td>\n",
              "    </tr>\n",
              "    <tr>\n",
              "      <th>4</th>\n",
              "      <td>3.8462</td>\n",
              "      <td>52.0</td>\n",
              "      <td>6.281853</td>\n",
              "      <td>1.081081</td>\n",
              "      <td>565.0</td>\n",
              "      <td>2.181467</td>\n",
              "      <td>37.85</td>\n",
              "      <td>-122.25</td>\n",
              "      <td>3.422</td>\n",
              "    </tr>\n",
              "  </tbody>\n",
              "</table>\n",
              "</div>\n",
              "    <div class=\"colab-df-buttons\">\n",
              "\n",
              "  <div class=\"colab-df-container\">\n",
              "    <button class=\"colab-df-convert\" onclick=\"convertToInteractive('df-996806fc-b610-480a-96b2-91f6de9e56d3')\"\n",
              "            title=\"Convert this dataframe to an interactive table.\"\n",
              "            style=\"display:none;\">\n",
              "\n",
              "  <svg xmlns=\"http://www.w3.org/2000/svg\" height=\"24px\" viewBox=\"0 -960 960 960\">\n",
              "    <path d=\"M120-120v-720h720v720H120Zm60-500h600v-160H180v160Zm220 220h160v-160H400v160Zm0 220h160v-160H400v160ZM180-400h160v-160H180v160Zm440 0h160v-160H620v160ZM180-180h160v-160H180v160Zm440 0h160v-160H620v160Z\"/>\n",
              "  </svg>\n",
              "    </button>\n",
              "\n",
              "  <style>\n",
              "    .colab-df-container {\n",
              "      display:flex;\n",
              "      gap: 12px;\n",
              "    }\n",
              "\n",
              "    .colab-df-convert {\n",
              "      background-color: #E8F0FE;\n",
              "      border: none;\n",
              "      border-radius: 50%;\n",
              "      cursor: pointer;\n",
              "      display: none;\n",
              "      fill: #1967D2;\n",
              "      height: 32px;\n",
              "      padding: 0 0 0 0;\n",
              "      width: 32px;\n",
              "    }\n",
              "\n",
              "    .colab-df-convert:hover {\n",
              "      background-color: #E2EBFA;\n",
              "      box-shadow: 0px 1px 2px rgba(60, 64, 67, 0.3), 0px 1px 3px 1px rgba(60, 64, 67, 0.15);\n",
              "      fill: #174EA6;\n",
              "    }\n",
              "\n",
              "    .colab-df-buttons div {\n",
              "      margin-bottom: 4px;\n",
              "    }\n",
              "\n",
              "    [theme=dark] .colab-df-convert {\n",
              "      background-color: #3B4455;\n",
              "      fill: #D2E3FC;\n",
              "    }\n",
              "\n",
              "    [theme=dark] .colab-df-convert:hover {\n",
              "      background-color: #434B5C;\n",
              "      box-shadow: 0px 1px 3px 1px rgba(0, 0, 0, 0.15);\n",
              "      filter: drop-shadow(0px 1px 2px rgba(0, 0, 0, 0.3));\n",
              "      fill: #FFFFFF;\n",
              "    }\n",
              "  </style>\n",
              "\n",
              "    <script>\n",
              "      const buttonEl =\n",
              "        document.querySelector('#df-996806fc-b610-480a-96b2-91f6de9e56d3 button.colab-df-convert');\n",
              "      buttonEl.style.display =\n",
              "        google.colab.kernel.accessAllowed ? 'block' : 'none';\n",
              "\n",
              "      async function convertToInteractive(key) {\n",
              "        const element = document.querySelector('#df-996806fc-b610-480a-96b2-91f6de9e56d3');\n",
              "        const dataTable =\n",
              "          await google.colab.kernel.invokeFunction('convertToInteractive',\n",
              "                                                    [key], {});\n",
              "        if (!dataTable) return;\n",
              "\n",
              "        const docLinkHtml = 'Like what you see? Visit the ' +\n",
              "          '<a target=\"_blank\" href=https://colab.research.google.com/notebooks/data_table.ipynb>data table notebook</a>'\n",
              "          + ' to learn more about interactive tables.';\n",
              "        element.innerHTML = '';\n",
              "        dataTable['output_type'] = 'display_data';\n",
              "        await google.colab.output.renderOutput(dataTable, element);\n",
              "        const docLink = document.createElement('div');\n",
              "        docLink.innerHTML = docLinkHtml;\n",
              "        element.appendChild(docLink);\n",
              "      }\n",
              "    </script>\n",
              "  </div>\n",
              "\n",
              "\n",
              "<div id=\"df-0025c901-56eb-4fbc-9347-ab00de7b257e\">\n",
              "  <button class=\"colab-df-quickchart\" onclick=\"quickchart('df-0025c901-56eb-4fbc-9347-ab00de7b257e')\"\n",
              "            title=\"Suggest charts\"\n",
              "            style=\"display:none;\">\n",
              "\n",
              "<svg xmlns=\"http://www.w3.org/2000/svg\" height=\"24px\"viewBox=\"0 0 24 24\"\n",
              "     width=\"24px\">\n",
              "    <g>\n",
              "        <path d=\"M19 3H5c-1.1 0-2 .9-2 2v14c0 1.1.9 2 2 2h14c1.1 0 2-.9 2-2V5c0-1.1-.9-2-2-2zM9 17H7v-7h2v7zm4 0h-2V7h2v10zm4 0h-2v-4h2v4z\"/>\n",
              "    </g>\n",
              "</svg>\n",
              "  </button>\n",
              "\n",
              "<style>\n",
              "  .colab-df-quickchart {\n",
              "      --bg-color: #E8F0FE;\n",
              "      --fill-color: #1967D2;\n",
              "      --hover-bg-color: #E2EBFA;\n",
              "      --hover-fill-color: #174EA6;\n",
              "      --disabled-fill-color: #AAA;\n",
              "      --disabled-bg-color: #DDD;\n",
              "  }\n",
              "\n",
              "  [theme=dark] .colab-df-quickchart {\n",
              "      --bg-color: #3B4455;\n",
              "      --fill-color: #D2E3FC;\n",
              "      --hover-bg-color: #434B5C;\n",
              "      --hover-fill-color: #FFFFFF;\n",
              "      --disabled-bg-color: #3B4455;\n",
              "      --disabled-fill-color: #666;\n",
              "  }\n",
              "\n",
              "  .colab-df-quickchart {\n",
              "    background-color: var(--bg-color);\n",
              "    border: none;\n",
              "    border-radius: 50%;\n",
              "    cursor: pointer;\n",
              "    display: none;\n",
              "    fill: var(--fill-color);\n",
              "    height: 32px;\n",
              "    padding: 0;\n",
              "    width: 32px;\n",
              "  }\n",
              "\n",
              "  .colab-df-quickchart:hover {\n",
              "    background-color: var(--hover-bg-color);\n",
              "    box-shadow: 0 1px 2px rgba(60, 64, 67, 0.3), 0 1px 3px 1px rgba(60, 64, 67, 0.15);\n",
              "    fill: var(--button-hover-fill-color);\n",
              "  }\n",
              "\n",
              "  .colab-df-quickchart-complete:disabled,\n",
              "  .colab-df-quickchart-complete:disabled:hover {\n",
              "    background-color: var(--disabled-bg-color);\n",
              "    fill: var(--disabled-fill-color);\n",
              "    box-shadow: none;\n",
              "  }\n",
              "\n",
              "  .colab-df-spinner {\n",
              "    border: 2px solid var(--fill-color);\n",
              "    border-color: transparent;\n",
              "    border-bottom-color: var(--fill-color);\n",
              "    animation:\n",
              "      spin 1s steps(1) infinite;\n",
              "  }\n",
              "\n",
              "  @keyframes spin {\n",
              "    0% {\n",
              "      border-color: transparent;\n",
              "      border-bottom-color: var(--fill-color);\n",
              "      border-left-color: var(--fill-color);\n",
              "    }\n",
              "    20% {\n",
              "      border-color: transparent;\n",
              "      border-left-color: var(--fill-color);\n",
              "      border-top-color: var(--fill-color);\n",
              "    }\n",
              "    30% {\n",
              "      border-color: transparent;\n",
              "      border-left-color: var(--fill-color);\n",
              "      border-top-color: var(--fill-color);\n",
              "      border-right-color: var(--fill-color);\n",
              "    }\n",
              "    40% {\n",
              "      border-color: transparent;\n",
              "      border-right-color: var(--fill-color);\n",
              "      border-top-color: var(--fill-color);\n",
              "    }\n",
              "    60% {\n",
              "      border-color: transparent;\n",
              "      border-right-color: var(--fill-color);\n",
              "    }\n",
              "    80% {\n",
              "      border-color: transparent;\n",
              "      border-right-color: var(--fill-color);\n",
              "      border-bottom-color: var(--fill-color);\n",
              "    }\n",
              "    90% {\n",
              "      border-color: transparent;\n",
              "      border-bottom-color: var(--fill-color);\n",
              "    }\n",
              "  }\n",
              "</style>\n",
              "\n",
              "  <script>\n",
              "    async function quickchart(key) {\n",
              "      const quickchartButtonEl =\n",
              "        document.querySelector('#' + key + ' button');\n",
              "      quickchartButtonEl.disabled = true;  // To prevent multiple clicks.\n",
              "      quickchartButtonEl.classList.add('colab-df-spinner');\n",
              "      try {\n",
              "        const charts = await google.colab.kernel.invokeFunction(\n",
              "            'suggestCharts', [key], {});\n",
              "      } catch (error) {\n",
              "        console.error('Error during call to suggestCharts:', error);\n",
              "      }\n",
              "      quickchartButtonEl.classList.remove('colab-df-spinner');\n",
              "      quickchartButtonEl.classList.add('colab-df-quickchart-complete');\n",
              "    }\n",
              "    (() => {\n",
              "      let quickchartButtonEl =\n",
              "        document.querySelector('#df-0025c901-56eb-4fbc-9347-ab00de7b257e button');\n",
              "      quickchartButtonEl.style.display =\n",
              "        google.colab.kernel.accessAllowed ? 'block' : 'none';\n",
              "    })();\n",
              "  </script>\n",
              "</div>\n",
              "\n",
              "    </div>\n",
              "  </div>\n"
            ],
            "application/vnd.google.colaboratory.intrinsic+json": {
              "type": "dataframe",
              "variable_name": "df",
              "summary": "{\n  \"name\": \"df\",\n  \"rows\": 20640,\n  \"fields\": [\n    {\n      \"column\": \"MedInc\",\n      \"properties\": {\n        \"dtype\": \"number\",\n        \"std\": 1.8998217179452732,\n        \"min\": 0.4999,\n        \"max\": 15.0001,\n        \"num_unique_values\": 12928,\n        \"samples\": [\n          5.0286,\n          2.0433,\n          6.1228\n        ],\n        \"semantic_type\": \"\",\n        \"description\": \"\"\n      }\n    },\n    {\n      \"column\": \"HouseAge\",\n      \"properties\": {\n        \"dtype\": \"number\",\n        \"std\": 12.585557612111637,\n        \"min\": 1.0,\n        \"max\": 52.0,\n        \"num_unique_values\": 52,\n        \"samples\": [\n          35.0,\n          25.0,\n          7.0\n        ],\n        \"semantic_type\": \"\",\n        \"description\": \"\"\n      }\n    },\n    {\n      \"column\": \"AveRooms\",\n      \"properties\": {\n        \"dtype\": \"number\",\n        \"std\": 2.4741731394243205,\n        \"min\": 0.8461538461538461,\n        \"max\": 141.9090909090909,\n        \"num_unique_values\": 19392,\n        \"samples\": [\n          6.111269614835948,\n          5.912820512820513,\n          5.7924528301886795\n        ],\n        \"semantic_type\": \"\",\n        \"description\": \"\"\n      }\n    },\n    {\n      \"column\": \"AveBedrms\",\n      \"properties\": {\n        \"dtype\": \"number\",\n        \"std\": 0.47391085679546435,\n        \"min\": 0.3333333333333333,\n        \"max\": 34.06666666666667,\n        \"num_unique_values\": 14233,\n        \"samples\": [\n          0.9906542056074766,\n          1.112099644128114,\n          1.0398230088495575\n        ],\n        \"semantic_type\": \"\",\n        \"description\": \"\"\n      }\n    },\n    {\n      \"column\": \"Population\",\n      \"properties\": {\n        \"dtype\": \"number\",\n        \"std\": 1132.4621217653375,\n        \"min\": 3.0,\n        \"max\": 35682.0,\n        \"num_unique_values\": 3888,\n        \"samples\": [\n          4169.0,\n          636.0,\n          3367.0\n        ],\n        \"semantic_type\": \"\",\n        \"description\": \"\"\n      }\n    },\n    {\n      \"column\": \"AveOccup\",\n      \"properties\": {\n        \"dtype\": \"number\",\n        \"std\": 10.386049562213591,\n        \"min\": 0.6923076923076923,\n        \"max\": 1243.3333333333333,\n        \"num_unique_values\": 18841,\n        \"samples\": [\n          2.6939799331103678,\n          3.559375,\n          3.297082228116711\n        ],\n        \"semantic_type\": \"\",\n        \"description\": \"\"\n      }\n    },\n    {\n      \"column\": \"Latitude\",\n      \"properties\": {\n        \"dtype\": \"number\",\n        \"std\": 2.1359523974571117,\n        \"min\": 32.54,\n        \"max\": 41.95,\n        \"num_unique_values\": 862,\n        \"samples\": [\n          33.7,\n          34.41,\n          38.24\n        ],\n        \"semantic_type\": \"\",\n        \"description\": \"\"\n      }\n    },\n    {\n      \"column\": \"Longitude\",\n      \"properties\": {\n        \"dtype\": \"number\",\n        \"std\": 2.003531723502581,\n        \"min\": -124.35,\n        \"max\": -114.31,\n        \"num_unique_values\": 844,\n        \"samples\": [\n          -118.63,\n          -119.86,\n          -121.26\n        ],\n        \"semantic_type\": \"\",\n        \"description\": \"\"\n      }\n    },\n    {\n      \"column\": \"PRICE\",\n      \"properties\": {\n        \"dtype\": \"number\",\n        \"std\": 1.1539561587441483,\n        \"min\": 0.14999,\n        \"max\": 5.00001,\n        \"num_unique_values\": 3842,\n        \"samples\": [\n          1.943,\n          3.79,\n          2.301\n        ],\n        \"semantic_type\": \"\",\n        \"description\": \"\"\n      }\n    }\n  ]\n}"
            }
          },
          "metadata": {},
          "execution_count": 14
        }
      ]
    },
    {
      "cell_type": "code",
      "source": [
        "X = df.drop('PRICE', axis=1) ## -- Modelin girdi olarak kullanacağı özellikleri içeririr. ( medyan gelir,ev yaşı,oda sayısı vs..)\n",
        "y = df['PRICE'] ## -- Modelin tahmin etmeye çalışacağı hedef değişkendir, 'price' alındığı için konut fiyatları hedef değişkendir.\n",
        "## -- ^ Veri setindeki özellikleri (bağımsız değişkenler) ve hedef değişkeni (bağımlı değişken) ayırma işlemidir."
      ],
      "metadata": {
        "id": "5ErwreUOkZTT"
      },
      "execution_count": null,
      "outputs": []
    },
    {
      "cell_type": "code",
      "source": [
        "## -- train_test_split fonksiyonu :  verilen veri setini iki parçaya ayırır: eğitim verisi ve test verisi.\n",
        "## -- test_size=0.3: Bu parametre, veri setinin ne kadarının test verisi olarak ayrılacağını belirler.  (0.3 * 100 )\n",
        "## -- Geri kalan %70, eğitim verisi olarak kullanılacaktır.\n",
        "X_train, X_test, y_train, y_test = train_test_split(X, y, test_size=0.3, random_state=42)"
      ],
      "metadata": {
        "id": "5WlnH0mHPnFk"
      },
      "execution_count": 8,
      "outputs": []
    },
    {
      "cell_type": "markdown",
      "source": [
        "\n",
        "## Training and testing calculation rates\n",
        "we have %100 :\n",
        "\n",
        "- if %80 train => %20 test (80 eğitim , 20 test)\n",
        "\n",
        "- else %70 train => %30 test (70 eğitim , 30 test)\n",
        "\n",
        "### MSE Nedir ?\n",
        "-  Tahmin edilen değerlerle gerçek değerler arasındaki farkların karesinin ortalamasını alarak hesaplanan bir hata ölçüsüdür.\n",
        "\n",
        "### R² (R-Kare) Değerleri :\n",
        "\n",
        "#### bağımlı değişken = y , bağımsız değişken = x\n",
        "### a-) 0 Değeri :\n",
        "- (y), (x) ile olan ilişkisinde, model y değerindeki değişkenliği açıklamakta başarısızdır.\n",
        "- Modelin tahminleri, ortalama tahminden daha iyi değildir.\n",
        "\n",
        "### b-) 0 - 0.5 Arası :\n",
        "- Model, (y) değişkenliğin %0 ile %50'sini açıklıyor.\n",
        "- Model'in  performansı zayıf kabul edilir\n",
        "\n",
        "### c-) 0.5 - 0.8 Arası :\n",
        "- Model, (y) değerinde ki değişkenliğin %50 ile %80'ini açıklıyor.\n",
        "- Model'in performansı kabul edilebilir.\n",
        "\n",
        "### d-) 0.8 - 1 Arası :\n",
        "- Model, (y) değerindeki değişkenliğin %80 ile %100'ünü açıklıyor.\n",
        "- Model'in performansı oldukça iyidir.\n",
        "\n",
        "### e-) 1 Değeri :\n",
        "- Model, (y) değerindeki değişkenin tüm değişkenliğini iyi açıklar. Ancak, bu genellikle nadiren görülür ve modelin aşırı öğrenme (overfitting) göstermesi anlamına gelebilir.\n",
        "\n"
      ],
      "metadata": {
        "id": "jf41agQUR_Vr"
      }
    },
    {
      "cell_type": "code",
      "source": [
        "## -- Model oluşturma\n",
        "model = LinearRegression() ## -- scikit-learn lib'de lineer regresyon modeli\n",
        "model.fit(X_train, y_train) ## -- fit metodu : Modelin girdi (özellikler) ile çıktı (hedef) arasındaki ilişkiyi öğrenmesini sağlar.\n",
        "\n",
        "## -- Tahmin yapma\n",
        "predictions = model.predict(X_test) ## -- Model nesnesinin predict metodunu kullanarak test veri setindeki (X_test) için tahminler yapar.\n",
        "print(\"Forecast Result : \", predictions[:5]) ## -- Tahmin edilen fiyatların ilk 5 değerini ekrana yazdırır.\n",
        "print(\"Actual Values : \", y_test[:5].values) ## -- Test veri setindeki, gerçek ilk 5 değerini yazdırır,tahmin ve gerçek arasındaki farkı görmek için\n",
        "\n",
        "## -- Sistemin Ortalama Hatası (MSE)\n",
        "mse = mean_squared_error(y_test, predictions) ## -- mean_squared_error fonksiyonunu kullanır, test verisi(y) ile modelin tahminleri (predictions) arasındaki MSE'yi hesaplar.\n",
        "print(\"Mean Squared Error (MSE) Sonucu:\", mse) ## -- hatanın (mse) düşük olması modelin tahminlerin gerçek değerlere yakın olduğunu gösterir.\n",
        "\n",
        "## -- Sistemin R-kare Hatası (R²)\n",
        "r2 = r2_score(y_test, predictions) ## -- r2_score fonksiyonunu kullanarak test verisi (y_test) ile (predictions) arasındaki R² değerini hesaplar.\n",
        "print(\"R-squared (R²) Sonucu:\", r2) ## -- R²'nin yüksek olması, modelin daha iyi tahminler yaptığını gösterir."
      ],
      "metadata": {
        "colab": {
          "base_uri": "https://localhost:8080/"
        },
        "id": "Q5X4GX9Onw7d",
        "outputId": "7d3b312c-bdbb-4d95-aa52-2b794e572d71"
      },
      "execution_count": 16,
      "outputs": [
        {
          "output_type": "stream",
          "name": "stdout",
          "text": [
            "Forecast Result :  [0.72604907 1.76743383 2.71092161 2.83514727 2.60695807]\n",
            "Actual Values :  [0.477   0.458   5.00001 2.186   2.78   ]\n",
            "Mean Squared Error (MSE) Sonucu: 0.5305677824766758\n",
            "R-squared (R²) Sonucu: 0.595770232606166\n"
          ]
        }
      ]
    },
    {
      "cell_type": "markdown",
      "source": [
        "# TensorFlow Library <>"
      ],
      "metadata": {
        "id": "T2GjzWfmuVEQ"
      }
    },
    {
      "cell_type": "code",
      "source": [
        "!pip install tensorflow\n",
        "!apt-get install graphviz\n",
        "!pip install pydot"
      ],
      "metadata": {
        "colab": {
          "base_uri": "https://localhost:8080/"
        },
        "id": "vFk6YBs7dqV2",
        "outputId": "a19fa2a5-9d06-445d-8d37-64ca038a8052"
      },
      "execution_count": 19,
      "outputs": [
        {
          "output_type": "stream",
          "name": "stdout",
          "text": [
            "Requirement already satisfied: tensorflow in /usr/local/lib/python3.10/dist-packages (2.17.0)\n",
            "Requirement already satisfied: absl-py>=1.0.0 in /usr/local/lib/python3.10/dist-packages (from tensorflow) (1.4.0)\n",
            "Requirement already satisfied: astunparse>=1.6.0 in /usr/local/lib/python3.10/dist-packages (from tensorflow) (1.6.3)\n",
            "Requirement already satisfied: flatbuffers>=24.3.25 in /usr/local/lib/python3.10/dist-packages (from tensorflow) (24.3.25)\n",
            "Requirement already satisfied: gast!=0.5.0,!=0.5.1,!=0.5.2,>=0.2.1 in /usr/local/lib/python3.10/dist-packages (from tensorflow) (0.6.0)\n",
            "Requirement already satisfied: google-pasta>=0.1.1 in /usr/local/lib/python3.10/dist-packages (from tensorflow) (0.2.0)\n",
            "Requirement already satisfied: h5py>=3.10.0 in /usr/local/lib/python3.10/dist-packages (from tensorflow) (3.12.1)\n",
            "Requirement already satisfied: libclang>=13.0.0 in /usr/local/lib/python3.10/dist-packages (from tensorflow) (18.1.1)\n",
            "Requirement already satisfied: ml-dtypes<0.5.0,>=0.3.1 in /usr/local/lib/python3.10/dist-packages (from tensorflow) (0.4.1)\n",
            "Requirement already satisfied: opt-einsum>=2.3.2 in /usr/local/lib/python3.10/dist-packages (from tensorflow) (3.4.0)\n",
            "Requirement already satisfied: packaging in /usr/local/lib/python3.10/dist-packages (from tensorflow) (24.1)\n",
            "Requirement already satisfied: protobuf!=4.21.0,!=4.21.1,!=4.21.2,!=4.21.3,!=4.21.4,!=4.21.5,<5.0.0dev,>=3.20.3 in /usr/local/lib/python3.10/dist-packages (from tensorflow) (3.20.3)\n",
            "Requirement already satisfied: requests<3,>=2.21.0 in /usr/local/lib/python3.10/dist-packages (from tensorflow) (2.32.3)\n",
            "Requirement already satisfied: setuptools in /usr/local/lib/python3.10/dist-packages (from tensorflow) (75.1.0)\n",
            "Requirement already satisfied: six>=1.12.0 in /usr/local/lib/python3.10/dist-packages (from tensorflow) (1.16.0)\n",
            "Requirement already satisfied: termcolor>=1.1.0 in /usr/local/lib/python3.10/dist-packages (from tensorflow) (2.5.0)\n",
            "Requirement already satisfied: typing-extensions>=3.6.6 in /usr/local/lib/python3.10/dist-packages (from tensorflow) (4.12.2)\n",
            "Requirement already satisfied: wrapt>=1.11.0 in /usr/local/lib/python3.10/dist-packages (from tensorflow) (1.16.0)\n",
            "Requirement already satisfied: grpcio<2.0,>=1.24.3 in /usr/local/lib/python3.10/dist-packages (from tensorflow) (1.64.1)\n",
            "Requirement already satisfied: tensorboard<2.18,>=2.17 in /usr/local/lib/python3.10/dist-packages (from tensorflow) (2.17.0)\n",
            "Requirement already satisfied: keras>=3.2.0 in /usr/local/lib/python3.10/dist-packages (from tensorflow) (3.4.1)\n",
            "Requirement already satisfied: tensorflow-io-gcs-filesystem>=0.23.1 in /usr/local/lib/python3.10/dist-packages (from tensorflow) (0.37.1)\n",
            "Requirement already satisfied: numpy<2.0.0,>=1.23.5 in /usr/local/lib/python3.10/dist-packages (from tensorflow) (1.26.4)\n",
            "Requirement already satisfied: wheel<1.0,>=0.23.0 in /usr/local/lib/python3.10/dist-packages (from astunparse>=1.6.0->tensorflow) (0.44.0)\n",
            "Requirement already satisfied: rich in /usr/local/lib/python3.10/dist-packages (from keras>=3.2.0->tensorflow) (13.9.3)\n",
            "Requirement already satisfied: namex in /usr/local/lib/python3.10/dist-packages (from keras>=3.2.0->tensorflow) (0.0.8)\n",
            "Requirement already satisfied: optree in /usr/local/lib/python3.10/dist-packages (from keras>=3.2.0->tensorflow) (0.13.0)\n",
            "Requirement already satisfied: charset-normalizer<4,>=2 in /usr/local/lib/python3.10/dist-packages (from requests<3,>=2.21.0->tensorflow) (3.4.0)\n",
            "Requirement already satisfied: idna<4,>=2.5 in /usr/local/lib/python3.10/dist-packages (from requests<3,>=2.21.0->tensorflow) (3.10)\n",
            "Requirement already satisfied: urllib3<3,>=1.21.1 in /usr/local/lib/python3.10/dist-packages (from requests<3,>=2.21.0->tensorflow) (2.2.3)\n",
            "Requirement already satisfied: certifi>=2017.4.17 in /usr/local/lib/python3.10/dist-packages (from requests<3,>=2.21.0->tensorflow) (2024.8.30)\n",
            "Requirement already satisfied: markdown>=2.6.8 in /usr/local/lib/python3.10/dist-packages (from tensorboard<2.18,>=2.17->tensorflow) (3.7)\n",
            "Requirement already satisfied: tensorboard-data-server<0.8.0,>=0.7.0 in /usr/local/lib/python3.10/dist-packages (from tensorboard<2.18,>=2.17->tensorflow) (0.7.2)\n",
            "Requirement already satisfied: werkzeug>=1.0.1 in /usr/local/lib/python3.10/dist-packages (from tensorboard<2.18,>=2.17->tensorflow) (3.0.6)\n",
            "Requirement already satisfied: MarkupSafe>=2.1.1 in /usr/local/lib/python3.10/dist-packages (from werkzeug>=1.0.1->tensorboard<2.18,>=2.17->tensorflow) (3.0.2)\n",
            "Requirement already satisfied: markdown-it-py>=2.2.0 in /usr/local/lib/python3.10/dist-packages (from rich->keras>=3.2.0->tensorflow) (3.0.0)\n",
            "Requirement already satisfied: pygments<3.0.0,>=2.13.0 in /usr/local/lib/python3.10/dist-packages (from rich->keras>=3.2.0->tensorflow) (2.18.0)\n",
            "Requirement already satisfied: mdurl~=0.1 in /usr/local/lib/python3.10/dist-packages (from markdown-it-py>=2.2.0->rich->keras>=3.2.0->tensorflow) (0.1.2)\n",
            "Reading package lists... Done\n",
            "Building dependency tree... Done\n",
            "Reading state information... Done\n",
            "graphviz is already the newest version (2.42.2-6ubuntu0.1).\n",
            "0 upgraded, 0 newly installed, 0 to remove and 49 not upgraded.\n",
            "Requirement already satisfied: pydot in /usr/local/lib/python3.10/dist-packages (3.0.2)\n",
            "Requirement already satisfied: pyparsing>=3.0.9 in /usr/local/lib/python3.10/dist-packages (from pydot) (3.2.0)\n"
          ]
        }
      ]
    },
    {
      "cell_type": "markdown",
      "source": [
        "*MNIST Veri Seti: 28x28 piksel boyutunda el yazısı rakamlarının bulunduğu bir veri setidir.*\n"
      ],
      "metadata": {
        "id": "jxkiFiu3wa4P"
      }
    },
    {
      "cell_type": "code",
      "source": [
        "import tensorflow as tf\n",
        "from tensorflow.keras import models\n",
        "from tensorflow.keras.datasets import mnist ## -- MNIST el yazısı rakamları veri setini yüklemek için kullanılan bir modül.\n",
        "from tensorflow.keras.utils import plot_model ## -- plot_model : Model mimarisini görselleştirmek için kullanılır.\n",
        "\n",
        "(x_train, y_train), (x_test, y_test) = mnist.load_data() # MNIST veri setini yükleme\n",
        "x_train, x_test = x_train / 255.0, x_test / 255.0\n",
        "## -- ^ Görüntü verileri 0-255 aralığındadır. Bu değerler, 0-1 aralığına ölçeklenir, bu da modelin daha iyi öğrenmesini sağlar.\n",
        "!pwd"
      ],
      "metadata": {
        "colab": {
          "base_uri": "https://localhost:8080/"
        },
        "id": "t47MGLufu3xc",
        "outputId": "b6f907f0-828f-4f6f-8a8a-a9b8268caffb"
      },
      "execution_count": 35,
      "outputs": [
        {
          "output_type": "stream",
          "name": "stdout",
          "text": [
            "/content/drive/MyDrive/Ai_Ders_IGU_2024\n"
          ]
        }
      ]
    },
    {
      "cell_type": "markdown",
      "source": [
        "## * Sequential Layers ( sequential katmanları )\n",
        "baştan sona doğru\n",
        "### Input Layer ( giriş katmanı ) :\n",
        "> Modelin alacağı verilerin boyutunu tanımlar.\n",
        "### Flatten Layer ( düzleştirme katmanı ) :\n",
        "> Çok boyutlu verileri 1d vektörlere dönüştürür.\n",
        "### Dense Layer ( tam bağlı katman ) :\n",
        "> Her düğüm, bir önceki katmandan gelen tüm düğümlerle tam bağlantıdadır.Ağırlıkları öğrenerek karmaşık ilişkileri modellemeye yardım eder.\n",
        "### Dropout Layer ( bırakma katmanı ) :\n",
        "> Overfitting önlemek için bazı verileri random devre dışı bırakır. Train sırasında kullanılmaz.\n",
        "### Output Layer ( çıkış katmanı ) :\n",
        "> Modelin tahminlerini üretir. Sınıflandırma problemlerinde genellikle sınıf sayısı kadar düğüm içerir.\n",
        "\n",
        "## * Activation Functions ( aktivasyon fonksiyonları )\n",
        "Bir düğümün çıkışını belirlemek için kullanılır. Modelin öğrenme yeteneğini artırarak karmaşık fonksiyonları öğrenmesine yardımcı olur.\n",
        "### ReLU (Rectified Linear Unit) :\n",
        "> Negatif değerleri sıfıra döndürür, pozitif değerleri olduğu gibi geçirir.\n",
        "### Sigmoid :\n",
        "> Çıktıyı 0 ile 1 arasında sıkıştırır.\n",
        "### Softmax :\n",
        "> Çok sınıflı sınıflandırma problemlerinde kullanılır.Çıktıları 0 ile 1 arasında normalize eder ve toplamının 1 olmasını sağlar. Her sınıfa ait olasılık değerleri üretir.\n",
        "### Tanh (Hiperbolik Tangent) :\n",
        "> Çıktıyı -1 ile 1 arasında sıkıştırır.\n",
        "\n",
        "\n",
        "\n",
        "\n",
        "\n",
        "\n",
        "\n",
        "\n"
      ],
      "metadata": {
        "id": "QO6JpR3m0dgU"
      }
    },
    {
      "cell_type": "markdown",
      "source": [
        "#### Aktivasyon Fonksiyonları Nasıl Seçilir ?\n",
        "*Çıktı katmanlarında kullanacağımız fonksiyonu seçmek gizli katmana göre biraz daha kolay çünkü yapacağımız tahmine göre uygun aktivasyon fonksiyonumuzu kullanıyoruz. Gizli katmanlarda ise kullanacağımız fonksiyonu deneme yanılma yöntemi ile seçeriz. Modelimizi farklı aktivasyon fonksiyonlarını kullanarak eğitip en iyi performans aldığımız fonksiyon ile yolumuza devam edebiliriz.*"
      ],
      "metadata": {
        "id": "7NSnEXby9z8T"
      }
    },
    {
      "cell_type": "code",
      "source": [
        "## --  Modeli oluşturma\n",
        "model = keras.Sequential([\n",
        "    layers.Flatten(input_shape=(28, 28)), ## -- Modelin alacağı verilerin boyutunu tanımlar.\n",
        "    layers.Dense(128, activation='relu'), ## -- Modelin öğrenme yeteneğini artırır.\n",
        "    layers.Dropout(0.2), ## -- Overfitting önlemek için kullanılan bir teknik. %20 si random devre dışı bırakılmıştır.\n",
        "    layers.Dense(10, activation='softmax') ## -- Modelin tahminlerini ürettiği son katmandır.\n",
        "])\n",
        "## -- Keras'ın Sequential modeli, katmanları ardışık bir şekilde dizmek için kullanılır.\n",
        "## -- Her katman, bir önceki katmanın çıktısını alır ve kendi çıktısını üretir."
      ],
      "metadata": {
        "id": "PHzzSF37yZ6o"
      },
      "execution_count": 36,
      "outputs": []
    },
    {
      "cell_type": "markdown",
      "source": [],
      "metadata": {
        "id": "B9GYOanAImf1"
      }
    },
    {
      "cell_type": "code",
      "source": [
        "## --  Modeli derleme\n",
        "model.compile(optimizer='adam',\n",
        "              loss='sparse_categorical_crossentropy',\n",
        "              metrics=['accuracy'])\n",
        "## -- Optimizer (Optimizasyon): Modelin ağırlıklarını güncellemek için kullanılan algoritmadır.\n",
        "## -- 'adam' : Öğrenme oranını otomatik olarak ayarlayan optimizasyon yöntemidir. Hızlı ve etkili bir öğrenme sağlar.\n",
        "## -- Loss Function (Kayıp Fonksiyonu): Modelin tahminlerinin gerçek etiketlerle ne kadar iyi uyuştuğunu ölçen fonksiyondur.\n",
        "## -- Sparse Categorical Crossentropy: Etiketlerin (integer) formatta olduğu durumlarda kullanılır. Her sınıf için tahmin edilen olasılıkları değerlendirir.\n",
        "## -- Metrics (Performans Göstergeleri): Modelin eğitim ve test süreçlerini değerlendirilecek performans ölçütleri.\n",
        "## -- Accuracy (Doğruluk): Modelin doğru tahminlerinin toplam tahmin sayısına oranı."
      ],
      "metadata": {
        "id": "nV6JD4sy9807"
      },
      "execution_count": 37,
      "outputs": []
    },
    {
      "cell_type": "markdown",
      "source": [
        "#### Modelin eğitim süreci\n",
        "model eğitim işlemi --> model.fit()\n",
        "\n",
        "model eğitim işlemi --> model.fit(x_train, y_train, ...)\n",
        "\n",
        "Eğitim Adım Sayısı --> epochs=5"
      ],
      "metadata": {
        "id": "z4B-0a0wBpPu"
      }
    },
    {
      "cell_type": "code",
      "source": [
        "## -- Modelin eğitim süreci\n",
        "model.fit(x_train, y_train, epochs=5)\n",
        "## -- ^ fit metodu = Modelin verilen eğitim verileri üzerinde öğrenme sürecini başlatır.\n",
        "## -- ^ x_train = giriş verileri olduğu veri kümesidir. MNIST veri setinde bu, el yazısı rakamlarını içeren görüntülerdir.\n",
        "## -- ^ y_train = Modelin tahmin etmeye çalışacağı hedef değerlerdir. x_train içindeki her görüntünün hangi rakama ait olduğunu belirten değerlerdir (0-9 arası rakamlar).\n",
        "## -- ^ epochs=5 = Modelin eğitim verileri üzerinde 5 kez tekrar edeceği anlamına gelir.\n",
        "\n",
        "## -- Modeli görselleştirmek ve çalışma alanına kaydetmek için plot_model kullanımı\n",
        "plot_model(model, to_file='ai_model/yz_tensoflow_model_ciktisi.png', show_shapes=True, show_layer_names=True) # Modelin Çıktısı\n",
        ""
      ],
      "metadata": {
        "colab": {
          "base_uri": "https://localhost:8080/",
          "height": 1000
        },
        "id": "NvdyYGnr_F4Q",
        "outputId": "da1f33b4-dfed-4ea9-db8e-42fc4affde35"
      },
      "execution_count": 39,
      "outputs": [
        {
          "output_type": "stream",
          "name": "stdout",
          "text": [
            "Epoch 1/5\n",
            "\u001b[1m1875/1875\u001b[0m \u001b[32m━━━━━━━━━━━━━━━━━━━━\u001b[0m\u001b[37m\u001b[0m \u001b[1m8s\u001b[0m 4ms/step - accuracy: 0.9810 - loss: 0.0600\n",
            "Epoch 2/5\n",
            "\u001b[1m1875/1875\u001b[0m \u001b[32m━━━━━━━━━━━━━━━━━━━━\u001b[0m\u001b[37m\u001b[0m \u001b[1m14s\u001b[0m 6ms/step - accuracy: 0.9829 - loss: 0.0532\n",
            "Epoch 3/5\n",
            "\u001b[1m1875/1875\u001b[0m \u001b[32m━━━━━━━━━━━━━━━━━━━━\u001b[0m\u001b[37m\u001b[0m \u001b[1m12s\u001b[0m 6ms/step - accuracy: 0.9845 - loss: 0.0485\n",
            "Epoch 4/5\n",
            "\u001b[1m1875/1875\u001b[0m \u001b[32m━━━━━━━━━━━━━━━━━━━━\u001b[0m\u001b[37m\u001b[0m \u001b[1m8s\u001b[0m 4ms/step - accuracy: 0.9854 - loss: 0.0438\n",
            "Epoch 5/5\n",
            "\u001b[1m1875/1875\u001b[0m \u001b[32m━━━━━━━━━━━━━━━━━━━━\u001b[0m\u001b[37m\u001b[0m \u001b[1m10s\u001b[0m 4ms/step - accuracy: 0.9870 - loss: 0.0392\n"
          ]
        },
        {
          "output_type": "execute_result",
          "data": {
            "image/png": "[encoded data removed]",
            "text/plain": [
              "<IPython.core.display.Image object>"
            ]
          },
          "metadata": {},
          "execution_count": 39
        }
      ]
    },
    {
      "cell_type": "markdown",
      "source": [
        "#### Performans Değerlendirmesi"
      ],
      "metadata": {
        "id": "YPIt8mQZCInW"
      }
    },
    {
      "cell_type": "code",
      "source": [
        "# Test seti üzerinde modelin performansını değerlendirme\n",
        "\n",
        "error_rate, success_rate = model.evaluate(x_test, y_test, verbose=2) ## -- evaluate metodu, iki değeri döndürür & verbose = 2 ,  daha ayrıntılı bilgi göstermeyi sağlar\n",
        "\n",
        "print(\" Accuracy of the Model  : %\", success_rate*100)\n",
        "print(\" Error rate of the Model : %\", error_rate*100)"
      ],
      "metadata": {
        "colab": {
          "base_uri": "https://localhost:8080/"
        },
        "id": "0BQqIVRpCL2e",
        "outputId": "058be495-47e7-4f3e-c5b4-e3ef686f8acd"
      },
      "execution_count": 40,
      "outputs": [
        {
          "output_type": "stream",
          "name": "stdout",
          "text": [
            "313/313 - 1s - 3ms/step - accuracy: 0.9802 - loss: 0.0659\n",
            " Accuracy of the Model  : % 98.01999926567078\n",
            " Error rate of the Model : % 6.585974246263504\n"
          ]
        }
      ]
    },
    {
      "cell_type": "markdown",
      "source": [
        "# PyTorch Lib <>"
      ],
      "metadata": {
        "id": "bU0KbLYMC-xk"
      }
    },
    {
      "cell_type": "code",
      "source": [
        "!pip install torch torchvision torchaudio"
      ],
      "metadata": {
        "colab": {
          "base_uri": "https://localhost:8080/"
        },
        "id": "FpkHf39VDEVk",
        "outputId": "85c0724d-d12c-4c9c-eac8-8095a5fb6d39"
      },
      "execution_count": 41,
      "outputs": [
        {
          "output_type": "stream",
          "name": "stdout",
          "text": [
            "Requirement already satisfied: torch in /usr/local/lib/python3.10/dist-packages (2.5.0+cu121)\n",
            "Requirement already satisfied: torchvision in /usr/local/lib/python3.10/dist-packages (0.20.0+cu121)\n",
            "Requirement already satisfied: torchaudio in /usr/local/lib/python3.10/dist-packages (2.5.0+cu121)\n",
            "Requirement already satisfied: filelock in /usr/local/lib/python3.10/dist-packages (from torch) (3.16.1)\n",
            "Requirement already satisfied: typing-extensions>=4.8.0 in /usr/local/lib/python3.10/dist-packages (from torch) (4.12.2)\n",
            "Requirement already satisfied: networkx in /usr/local/lib/python3.10/dist-packages (from torch) (3.4.2)\n",
            "Requirement already satisfied: jinja2 in /usr/local/lib/python3.10/dist-packages (from torch) (3.1.4)\n",
            "Requirement already satisfied: fsspec in /usr/local/lib/python3.10/dist-packages (from torch) (2024.10.0)\n",
            "Requirement already satisfied: sympy==1.13.1 in /usr/local/lib/python3.10/dist-packages (from torch) (1.13.1)\n",
            "Requirement already satisfied: mpmath<1.4,>=1.1.0 in /usr/local/lib/python3.10/dist-packages (from sympy==1.13.1->torch) (1.3.0)\n",
            "Requirement already satisfied: numpy in /usr/local/lib/python3.10/dist-packages (from torchvision) (1.26.4)\n",
            "Requirement already satisfied: pillow!=8.3.*,>=5.3.0 in /usr/local/lib/python3.10/dist-packages (from torchvision) (10.4.0)\n",
            "Requirement already satisfied: MarkupSafe>=2.0 in /usr/local/lib/python3.10/dist-packages (from jinja2->torch) (3.0.2)\n"
          ]
        }
      ]
    },
    {
      "cell_type": "code",
      "source": [
        "import torch ## -- PyTorch'un temel kütüphanesini içe aktarır.\n",
        "import torch.nn as nn ## -- PyTorch'un sinir ağı modüllerini içeren alt modülünü içe aktarır.\n",
        "import torch.optim as optim ## -- PyTorch'un optimizasyon algoritmalarını içeren alt modülünü içe aktarır.\n",
        "from torchvision import datasets, transforms ## -- torchvision =  Görüntü işleme ile ilgili işlevler sağlayan bir kütüphanedir.\n",
        "import matplotlib.pyplot as plt"
      ],
      "metadata": {
        "id": "XdXI61MbDMWv"
      },
      "execution_count": 42,
      "outputs": []
    },
    {
      "cell_type": "code",
      "source": [
        "## -- MNIST veri setini yükleme\n",
        "transform = transforms.Compose([transforms.ToTensor(), transforms.Normalize((0.5,), (0.5,))])\n",
        "train_set = datasets.MNIST('./data', train=True, download=True, transform=transform)\n",
        "test_set = datasets.MNIST('./data', train=False, transform=transform)\n",
        "\n",
        "train_loader = torch.utils.data.DataLoader(train_set, batch_size=64, shuffle=True)\n",
        "test_loader = torch.utils.data.DataLoader(test_set, batch_size=64, shuffle=False)"
      ],
      "metadata": {
        "colab": {
          "base_uri": "https://localhost:8080/"
        },
        "id": "mE117oaQDnhz",
        "outputId": "48c55d66-ff30-4cfe-fd70-c9296a4c3f67"
      },
      "execution_count": 43,
      "outputs": [
        {
          "output_type": "stream",
          "name": "stdout",
          "text": [
            "Downloading http://yann.lecun.com/exdb/mnist/train-images-idx3-ubyte.gz\n",
            "Failed to download (trying next):\n",
            "<urlopen error [SSL: CERTIFICATE_VERIFY_FAILED] certificate verify failed: certificate has expired (_ssl.c:1007)>\n",
            "\n",
            "Downloading https://ossci-datasets.s3.amazonaws.com/mnist/train-images-idx3-ubyte.gz\n",
            "Downloading https://ossci-datasets.s3.amazonaws.com/mnist/train-images-idx3-ubyte.gz to ./data/MNIST/raw/train-images-idx3-ubyte.gz\n"
          ]
        },
        {
          "output_type": "stream",
          "name": "stderr",
          "text": [
            "100%|██████████| 9.91M/9.91M [00:00<00:00, 33.9MB/s]\n"
          ]
        },
        {
          "output_type": "stream",
          "name": "stdout",
          "text": [
            "Extracting ./data/MNIST/raw/train-images-idx3-ubyte.gz to ./data/MNIST/raw\n",
            "\n",
            "Downloading http://yann.lecun.com/exdb/mnist/train-labels-idx1-ubyte.gz\n",
            "Failed to download (trying next):\n",
            "<urlopen error [SSL: CERTIFICATE_VERIFY_FAILED] certificate verify failed: certificate has expired (_ssl.c:1007)>\n",
            "\n",
            "Downloading https://ossci-datasets.s3.amazonaws.com/mnist/train-labels-idx1-ubyte.gz\n",
            "Downloading https://ossci-datasets.s3.amazonaws.com/mnist/train-labels-idx1-ubyte.gz to ./data/MNIST/raw/train-labels-idx1-ubyte.gz\n"
          ]
        },
        {
          "output_type": "stream",
          "name": "stderr",
          "text": [
            "100%|██████████| 28.9k/28.9k [00:00<00:00, 3.88MB/s]"
          ]
        },
        {
          "output_type": "stream",
          "name": "stdout",
          "text": [
            "Extracting ./data/MNIST/raw/train-labels-idx1-ubyte.gz to ./data/MNIST/raw\n",
            "\n",
            "Downloading http://yann.lecun.com/exdb/mnist/t10k-images-idx3-ubyte.gz\n"
          ]
        },
        {
          "output_type": "stream",
          "name": "stderr",
          "text": [
            "\n"
          ]
        },
        {
          "output_type": "stream",
          "name": "stdout",
          "text": [
            "Failed to download (trying next):\n",
            "<urlopen error [SSL: CERTIFICATE_VERIFY_FAILED] certificate verify failed: certificate has expired (_ssl.c:1007)>\n",
            "\n",
            "Downloading https://ossci-datasets.s3.amazonaws.com/mnist/t10k-images-idx3-ubyte.gz\n",
            "Downloading https://ossci-datasets.s3.amazonaws.com/mnist/t10k-images-idx3-ubyte.gz to ./data/MNIST/raw/t10k-images-idx3-ubyte.gz\n"
          ]
        },
        {
          "output_type": "stream",
          "name": "stderr",
          "text": [
            "100%|██████████| 1.65M/1.65M [00:00<00:00, 13.3MB/s]\n"
          ]
        },
        {
          "output_type": "stream",
          "name": "stdout",
          "text": [
            "Extracting ./data/MNIST/raw/t10k-images-idx3-ubyte.gz to ./data/MNIST/raw\n",
            "\n",
            "Downloading http://yann.lecun.com/exdb/mnist/t10k-labels-idx1-ubyte.gz\n",
            "Failed to download (trying next):\n",
            "<urlopen error [SSL: CERTIFICATE_VERIFY_FAILED] certificate verify failed: certificate has expired (_ssl.c:1007)>\n",
            "\n",
            "Downloading https://ossci-datasets.s3.amazonaws.com/mnist/t10k-labels-idx1-ubyte.gz\n",
            "Downloading https://ossci-datasets.s3.amazonaws.com/mnist/t10k-labels-idx1-ubyte.gz to ./data/MNIST/raw/t10k-labels-idx1-ubyte.gz\n"
          ]
        },
        {
          "output_type": "stream",
          "name": "stderr",
          "text": [
            "100%|██████████| 4.54k/4.54k [00:00<00:00, 6.03MB/s]"
          ]
        },
        {
          "output_type": "stream",
          "name": "stdout",
          "text": [
            "Extracting ./data/MNIST/raw/t10k-labels-idx1-ubyte.gz to ./data/MNIST/raw\n"
          ]
        },
        {
          "output_type": "stream",
          "name": "stderr",
          "text": [
            "\n"
          ]
        },
        {
          "output_type": "stream",
          "name": "stdout",
          "text": [
            "\n"
          ]
        }
      ]
    },
    {
      "cell_type": "markdown",
      "source": [
        "*-1 argümanı, PyTorch'un otomatik olarak doğru boyutu hesaplamasına olanak tanır.*"
      ],
      "metadata": {
        "id": "CUERBPxsEmlE"
      }
    },
    {
      "cell_type": "code",
      "source": [
        "## --  Modeli oluşturma\n",
        "class Net(nn.Module): ## -- Net adında bir sinir ağı modeli tanımlandırıldı.\n",
        "    def __init__(self): ## -- Sınıfın yapıcı metodudur. Modelin katmanlarını tanımlamak için kullanılır.\n",
        "        super(Net, self).__init__()\n",
        "        self.fc1 = nn.Linear(28 * 28, 128) ## -- İlk tam bağlı (fully connected) katmanı tanımlar. Giriş boyutu 28x28 olan veriyi alır ve 128 düğüme bağlar.\n",
        "        self.fc2 = nn.Linear(128, 10) ## -- İkinci tam bağlı katmanı tanımlar. 128 düğümden gelen veriyi alır ve 10 düğüme bağlar.\n",
        "\n",
        "    def forward(self, x): ## -- Modelin ileri besleme aşamasını tanımlar. Modelin girdi verileri ile nasıl çalıştığını belirler.\n",
        "        x = x.view(-1, 28 * 28) ## -- 28x28 boyutundaki görüntüleri tek bir vektör haline getirir.\n",
        "        x = torch.relu(self.fc1(x)) ## -- İlk katmandan (fc1) gelen veriyi alır, relu aktivasyon fonksiyonunu uygular ve sonucu x değişkenine atar.\n",
        "        x = self.fc2(x) ## -- İkinci katmandan (fc2) gelen veriyi işler.\n",
        "        return x ## -- modelin tahminlerini döndürür.\n",
        "\n",
        "model = Net()"
      ],
      "metadata": {
        "id": "Y3PMRwSNDzw9"
      },
      "execution_count": 44,
      "outputs": []
    },
    {
      "cell_type": "markdown",
      "source": [
        "*Küçük bir öğrenme oranı, daha stabil ama yavaş bir öğrenmeyi sağlarken; büyük bir öğrenme oranı, daha hızlı öğrenmeyi ancak dalgalanmalara neden olabilecek bir yaklaşımı ifade eder.*"
      ],
      "metadata": {
        "id": "17vr519mI_F1"
      }
    },
    {
      "cell_type": "code",
      "source": [
        "# -- Kayıp fonksiyonu ve optimizer\n",
        "criterion = nn.CrossEntropyLoss() ## -- Kayıp fonksiyonu olarak CrossEntropyLoss kullanılır\n",
        "optimizer = optim.SGD(model.parameters(), lr=0.01) ## -- lr=0.01: learning rate olarak belirlendi. Modelin ağırlıklarını güncellerken ne kadar değişiklik yapacağını belirler.\n",
        "\n",
        "## -- Eğitim için boş listeler tanımla\n",
        "train_losses = [] ## -- kayıp listesi\n",
        "train_accuracies = [] ## -- doğruluk listesi"
      ],
      "metadata": {
        "id": "HjMjnrDzE45s"
      },
      "execution_count": 45,
      "outputs": []
    },
    {
      "cell_type": "markdown",
      "source": [
        "*batch = eğitim verilerinin küçük parçalara ,gruplara bölünmesidir.*\n"
      ],
      "metadata": {
        "id": "OMHXsbeeKuFr"
      }
    },
    {
      "cell_type": "code",
      "source": [
        "for epoch in range(50):  ## -- 50 epoch boyunca eğit\n",
        "    running_loss = 0.0 ## -- Eğitim sırasında toplam kaybı (loss) tutmak için kullanılır. Her bir mini batchden gelen kayıpları toplamak için sıfırlanır.\n",
        "    correct = 0 ## -- Modelin doğru tahmin ettiği örneklerin sayısını tutar.\n",
        "    total = 0 ## -- Eğitim sırasında işlenen toplam örnek sayısını tutar.\n",
        "\n",
        "    for images, labels in train_loader: ## -- eğitim verilerini mini batch'ler halinde döngüye sokar.\n",
        "\n",
        "        optimizer.zero_grad() ## -- Her mini batch işlemine başlamadan önce, modelin ağırlıklarının gradyanlarını sıfırlar.\n",
        "        output = model(images) ## -- Girdi olarak aldığı images üzerinde tahmin yapar ve çıktıyı (output) üretir.\n",
        "        loss = criterion(output, labels) ## -- Modelin tahminleri ile gerçek labels arasındaki kaybı hesaplar.\n",
        "        loss.backward() ## -- Kayıp fonksiyonunun gradyanını hesaplar ve modelin parametrelerinin güncellenmesi için backpropagation(geri yayılım) işlemi gerçekleştirir.\n",
        "        optimizer.step() ## -- Hesaplanan gradyanlar kullanılarak modelin ağırlıkları güncellenir.\n",
        "\n",
        "        ## -- Kayıp (loss) değerini topla\n",
        "        running_loss += loss.item()\n",
        "\n",
        "        ## -- Doğruluğu hesapla\n",
        "        _, predicted = torch.max(output, 1) ## -- Modele ait output'dan her görüntü için en yüksek olasılığa sahip tahmini sınıfı bulur.\n",
        "        total += labels.size(0) ## -- İşlenen mini batch'teki toplam örnek sayısını günceller.\n",
        "        correct += (predicted == labels).sum().item()\n",
        "        ## -- ^ Doğru tahminlerin sayısını günceller. Tahmin edilen sınıf ile gerçek etiket karşılaştırılır ve doğru tahminlerin sayısı toplanır.\n",
        "\n",
        "   # Her epoch sonunda ortalama kayıp ve doğruluk\n",
        "    epoch_loss = running_loss / len(train_loader) ## -- epoch_loss: Her epoch sonunda, eğitim kaybını hesaplar.\n",
        "    ## -- ^ Toplam kaybı (running_loss), eğitim verilerini mini batch'ler halinde işlemek için kullanılan train_loader'ın uzunluğuna böler.\n",
        "    epoch_accuracy = 100 * correct / total\n",
        "    ## -- ^ Doğru tahmin edilen örnek sayısını (correct), toplam örnek sayısına (total) bölüp yüzde cinsine çevirir.\n",
        "    train_losses.append(epoch_loss)\n",
        "    train_accuracies.append(epoch_accuracy)\n",
        "    ## -- ^ Hesaplanan kayıp ve doğruluk değerleri, daha sonra grafiklerde kullanılmak içnn train_losses ve train_accuracies listelerine eklenir.\n",
        "\n",
        "    print(f'Epoch {epoch+1}, Loss: {epoch_loss}, Accuracy: {epoch_accuracy}%') ## --  Sonuçları yazdırıyoruz\n",
        "\n",
        "print('training completed !') ## -- epochs bittiği zaman ekrana eğiitmin bittiği yazdırılacak.\n",
        "\n",
        "## -- Eğitim sonuçlarını grafikle gösterir\n",
        "epochs = range(1, 51)  ## -- 50 epoch olduğu için 1'den 51'ya kadar olan epoch'lar\n",
        "plt.figure(figsize=(12, 5))\n",
        "\n",
        "## -- Kayıp grafiği\n",
        "plt.subplot(1, 2, 1)\n",
        "plt.plot(epochs, train_losses, 'bo-', label='Loss of Training (Loss)') ## -- bo- ifadesi, mavi renkli noktalarla ve hatlarla grafik çizer.\n",
        "plt.title('Training Loss')\n",
        "plt.xlabel('Epochs')\n",
        "plt.ylabel('Loss')\n",
        "plt.legend()\n",
        "\n",
        "## -- Doğruluk grafiği\n",
        "plt.subplot(1, 2, 2)\n",
        "plt.plot(epochs, train_accuracies, 'go-', label='Accuracy of Training (Accuracy)') ## -- go- ifadesi, yeşil renkli noktalarla ve hatlarla grafik çizer.\n",
        "plt.title('Training Accuracy')\n",
        "plt.xlabel('Epochs')\n",
        "plt.ylabel('Accuracy (%)')\n",
        "plt.legend()\n",
        "\n",
        "plt.tight_layout()\n",
        "plt.show()"
      ],
      "metadata": {
        "colab": {
          "base_uri": "https://localhost:8080/",
          "height": 1000
        },
        "id": "_hEfeN5LJZ5z",
        "outputId": "3f9150a9-19b9-455c-955f-37997302a973"
      },
      "execution_count": 47,
      "outputs": [
        {
          "output_type": "stream",
          "name": "stdout",
          "text": [
            "Epoch 1, Loss: 0.4147684177451296, Accuracy: 88.48166666666667%\n",
            "Epoch 2, Loss: 0.33790786968651354, Accuracy: 90.22333333333333%\n",
            "Epoch 3, Loss: 0.3050512753363484, Accuracy: 91.12666666666667%\n",
            "Epoch 4, Loss: 0.2820735273759629, Accuracy: 91.85833333333333%\n",
            "Epoch 5, Loss: 0.26136801858097, Accuracy: 92.45833333333333%\n",
            "Epoch 6, Loss: 0.2433423697313012, Accuracy: 93.0%\n",
            "Epoch 7, Loss: 0.22701966160856712, Accuracy: 93.51666666666667%\n",
            "Epoch 8, Loss: 0.21233238218658007, Accuracy: 93.94333333333333%\n",
            "Epoch 9, Loss: 0.1987381856650241, Accuracy: 94.385%\n",
            "Epoch 10, Loss: 0.1870862916906251, Accuracy: 94.74666666666667%\n",
            "Epoch 11, Loss: 0.1761981780205899, Accuracy: 95.045%\n",
            "Epoch 12, Loss: 0.16696986149766171, Accuracy: 95.23666666666666%\n",
            "Epoch 13, Loss: 0.15806350361968854, Accuracy: 95.48333333333333%\n",
            "Epoch 14, Loss: 0.15076422834121533, Accuracy: 95.71666666666667%\n",
            "Epoch 15, Loss: 0.14347584846852493, Accuracy: 95.93%\n",
            "Epoch 16, Loss: 0.13695829730830403, Accuracy: 96.13166666666666%\n",
            "Epoch 17, Loss: 0.13127585702232206, Accuracy: 96.32%\n",
            "Epoch 18, Loss: 0.12606076881496, Accuracy: 96.46166666666667%\n",
            "Epoch 19, Loss: 0.12070539826229373, Accuracy: 96.58%\n",
            "Epoch 20, Loss: 0.11649234776200453, Accuracy: 96.705%\n",
            "Epoch 21, Loss: 0.11180701674814068, Accuracy: 96.88833333333334%\n",
            "Epoch 22, Loss: 0.10768084573958601, Accuracy: 96.97666666666667%\n",
            "Epoch 23, Loss: 0.1042763882441752, Accuracy: 97.06%\n",
            "Epoch 24, Loss: 0.10069646509582682, Accuracy: 97.23%\n",
            "Epoch 25, Loss: 0.09755676292252344, Accuracy: 97.25%\n",
            "Epoch 26, Loss: 0.09438033227119715, Accuracy: 97.38333333333334%\n",
            "Epoch 27, Loss: 0.09131181328646791, Accuracy: 97.505%\n",
            "Epoch 28, Loss: 0.0887495818426773, Accuracy: 97.535%\n",
            "Epoch 29, Loss: 0.08605009490159402, Accuracy: 97.62666666666667%\n",
            "Epoch 30, Loss: 0.08353884634214329, Accuracy: 97.71%\n",
            "Epoch 31, Loss: 0.08134071747941185, Accuracy: 97.77666666666667%\n",
            "Epoch 32, Loss: 0.07908623591005834, Accuracy: 97.85%\n",
            "Epoch 33, Loss: 0.07702908023242662, Accuracy: 97.89333333333333%\n",
            "Epoch 34, Loss: 0.07486137377022743, Accuracy: 97.985%\n",
            "Epoch 35, Loss: 0.07311262369060567, Accuracy: 97.98166666666667%\n",
            "Epoch 36, Loss: 0.07120335255382157, Accuracy: 98.05166666666666%\n",
            "Epoch 37, Loss: 0.06944536924489271, Accuracy: 98.08%\n",
            "Epoch 38, Loss: 0.0680024403242716, Accuracy: 98.17166666666667%\n",
            "Epoch 39, Loss: 0.06607881325857043, Accuracy: 98.19333333333333%\n",
            "Epoch 40, Loss: 0.06461988841948002, Accuracy: 98.26%\n",
            "Epoch 41, Loss: 0.06309457702725045, Accuracy: 98.34333333333333%\n",
            "Epoch 42, Loss: 0.06169201117227358, Accuracy: 98.35833333333333%\n",
            "Epoch 43, Loss: 0.06050035105779894, Accuracy: 98.38833333333334%\n",
            "Epoch 44, Loss: 0.05886416313504534, Accuracy: 98.43166666666667%\n",
            "Epoch 45, Loss: 0.057793488762756466, Accuracy: 98.495%\n",
            "Epoch 46, Loss: 0.056590400244008056, Accuracy: 98.47666666666667%\n",
            "Epoch 47, Loss: 0.05537563403432907, Accuracy: 98.53333333333333%\n",
            "Epoch 48, Loss: 0.054286566665217376, Accuracy: 98.57%\n",
            "Epoch 49, Loss: 0.05315461076512091, Accuracy: 98.57%\n",
            "Epoch 50, Loss: 0.052098949340039065, Accuracy: 98.59833333333333%\n",
            "training completed !\n"
          ]
        },
        {
          "output_type": "display_data",
          "data": {
            "text/plain": [
              "<Figure size 1200x500 with 2 Axes>"
            ],
            "image/png": "[encoded data removed]"
          },
          "metadata": {}
        }
      ]
    },
    {
      "cell_type": "code",
      "source": [
        "## -- Modelin test verisi üzerinde performans değerlendirmesi\n",
        "test_loss = 0.0\n",
        "correct = 0\n",
        "total = 0\n",
        "\n",
        "## -- Test verisi üzerinde modelin kaybını ve doğruluğunu hesapla (gradyan hesaplama yok)\n",
        "with torch.no_grad(): ## -- test sırasında modelin ağırlıklarının güncelleme yapmaz\n",
        "    for images, labels in test_loader: ## -- test verisini mini batch'ler halinde döngüye sokar.\n",
        "        output = model(images) ## -- test görüntüleri üzerinde tahmin yapar.\n",
        "        loss = criterion(output, labels) ## -- Tahminler ile gerçek label'lar arasındaki kaybı hesaplar.\n",
        "        test_loss += loss.item() ## -- Hesaplanan kayıp değeri toplam kayıp değerine eklenir.\n",
        "\n",
        "        _, predicted = torch.max(output, 1) ## -- Modelin tahminleri arasından her görüntü için en yüksek olasılığa sahip tahmini sınıfı bulur.\n",
        "        total += labels.size(0) ## -- İşlenen mini batch'teki toplam örnek sayısını günceller.\n",
        "        correct += (predicted == labels).sum().item()\n",
        "        ## -- ^ Tahmin edilen sınıf ile gerçek label karşılaştırılır ve doğru tahminlerin sayısı toplanır. = Doğru tahminlerin sayısını günceller.\n",
        "\n",
        "## -- Test seti kaybı ve doğruluğu\n",
        "test_loss /= len(test_loader) ## -- Toplam kaybı, test setindeki mini batch sayısına böler, böylece ortalama kaybı hesaplar.\n",
        "test_accuracy = 100 * correct / total ## -- Doğru tahmin edilen örnek sayısını, toplam örnek sayısına bölüp yüzde'ye çevirir.\n",
        "\n",
        "print(\"Test set loss : \", test_loss)\n",
        "print(\"Test set accuracy : \", test_accuracy , \"%\")"
      ],
      "metadata": {
        "colab": {
          "base_uri": "https://localhost:8080/"
        },
        "id": "t2WnKbRER9zA",
        "outputId": "ad54f8da-0b47-4929-b00c-5b7549ed5d39"
      },
      "execution_count": 48,
      "outputs": [
        {
          "output_type": "stream",
          "name": "stdout",
          "text": [
            "Test set loss :  0.08078043726992135\n",
            "Test set accuracy :  97.64 %\n"
          ]
        }
      ]
    },
    {
      "cell_type": "markdown",
      "source": [
        "[Aktivasyon Fonksiyonları Nasıl Seçilir ?](https://devreyakan.com/aktivasyon-fonksiyonlari/)"
      ],
      "metadata": {
        "id": "lWEY5JdDVfcC"
      }
    }
  ]
}