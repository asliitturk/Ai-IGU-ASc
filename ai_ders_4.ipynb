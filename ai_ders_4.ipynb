{
  "cells": [
    {
      "cell_type": "markdown",
      "metadata": {
        "id": "EvkNZ3jMKWYw"
      },
      "source": [
        "*24.10.2024 *- IGU MYO BILGISAYAR TEKNOLOJISI PROGRAMI AI DERSI (4.Hafta )"
      ]
    },
    {
      "cell_type": "code",
      "execution_count": 6,
      "metadata": {
        "colab": {
          "base_uri": "https://localhost:8080/"
        },
        "id": "sX51hTwoJd9f",
        "outputId": "262fb150-0a45-4b46-d6bb-f1de9eb0599e"
      },
      "outputs": [
        {
          "output_type": "stream",
          "name": "stdout",
          "text": [
            "3.10.12 (main, Sep 11 2024, 15:47:36) [GCC 11.4.0]\n"
          ]
        }
      ],
      "source": [
        "import sys\n",
        "print(sys.version)"
      ]
    },
    {
      "cell_type": "code",
      "execution_count": 7,
      "metadata": {
        "colab": {
          "base_uri": "https://localhost:8080/"
        },
        "id": "1X_TOtNYKmyJ",
        "outputId": "dd6ce3ca-dccc-481e-cbc6-be68d90dfde7"
      },
      "outputs": [
        {
          "output_type": "stream",
          "name": "stdout",
          "text": [
            "Drive already mounted at /content/drive; to attempt to forcibly remount, call drive.mount(\"/content/drive\", force_remount=True).\n"
          ]
        }
      ],
      "source": [
        "from google.colab import drive\n",
        "drive.mount('/content/drive')"
      ]
    },
    {
      "cell_type": "code",
      "source": [
        "import os\n",
        "os.chdir('/content/drive/My Drive/Ai_Ders_IGU_2024')\n",
        "!pwd"
      ],
      "metadata": {
        "colab": {
          "base_uri": "https://localhost:8080/"
        },
        "id": "s486zFonLe1G",
        "outputId": "2cea471f-5298-4600-fd30-7cb6aaf07820"
      },
      "execution_count": 8,
      "outputs": [
        {
          "output_type": "stream",
          "name": "stdout",
          "text": [
            "/content/drive/My Drive/Ai_Ders_IGU_2024\n"
          ]
        }
      ]
    },
    {
      "cell_type": "markdown",
      "source": [
        "## CPU (Central Process Unit):\n",
        "Sunucudaki temel bilgi işlem birimi olan donanım bileşenidir.Bellekten talimatları getirir, gerekli görevleri gerçekleştirir ve çıktıyı belleğe geri gönderir. İşletim sistemini ve uygulamaları çalıştırmak için gereken tüm bilgi işlem görevlerini yerine getirir.\n",
        "## GPU (Graphics Processing Unit):\n",
        " Grafik işlemci birimi diye adlandırılan, anakart veya ekran kartı üzerinde bulunan grafik oluşturmakla görevli olan özel bir işlemci birimidir.Üzerinde bulunan çok sayıda çekirdek sayesinde görüntü oluşturmak ve karmaşık matematiksel işlemler yapmak ve tekrarlanan görevleri tamamlamak üzere sınıflanmıştır.\n",
        "## GPU ve CPU Arasındaki Farklar Nelerdir?\n",
        "- CPU, GPU’ya nazaran daha fazla bellek tüketir.\n",
        "- CPU seri komutları işlemekte yeteneklidir, GPU ise paralel komutları işlemekte daha iyidir.\n",
        "- CPU, GPU’ya nazaran daha yavaştır.\n",
        "- Çekirdek sayısı CPU’da 10 lu rakamlarda olabilirken, GPU’da 40.000 kadar çekirdek olabilmektedir.\n",
        "- CPU düşük gecikme, GPU ise yüksek verime odaklanmıştır.\n",
        "\n",
        "### *GPU sadece tek bir işlem yapmakta, yani görüntü işlemekte iyidir. CPU yavaştır ancak çok sayıda zorlu görevin altından kalkabilir, GPU’yu ise çok sayıda işçisi olan ve tek bir ürün çıkaran bir fabrikaya benzetilebilir.*"
      ],
      "metadata": {
        "id": "rggCoepcOVhK"
      }
    },
    {
      "cell_type": "code",
      "source": [
        "## -- CPU ve GPU teknolojisinin kullanımına göre olması gereken veri sayısı tablosu\n",
        "\n",
        "import pandas as pd\n",
        "\n",
        "tablo = {\n",
        "    \"Aralık\": [\"Küçük ölçekli\", \"Orta ölçekli\", \"Büyük ölçekli\", \"Hiper ölçekli\", \"Exascale\"],\n",
        "    \"Veri Sayısı\": [\"100 - 10,000\", \"10,000 - 100,000\", \"100,000 - Milyon\",  \"Milyon - Milyar\", \"Milyar - Trilyon\"],\n",
        "    \"CPU\": [\"Evet\", \"Evet\", \"Opsiyonel\", \"Hayır\", \"Hayır\"],\n",
        "    \"GPU\": [\"Hayır\", \"Opsiyonel\", \"Evet\", \"Evet\", \"Evet\"]\n",
        "}\n",
        "\n",
        "print(pd.DataFrame(tablo))"
      ],
      "metadata": {
        "colab": {
          "base_uri": "https://localhost:8080/"
        },
        "id": "BhYSiYNHNkDn",
        "outputId": "c675a75e-86f3-4d47-fb32-0f4bf3bebc66"
      },
      "execution_count": 5,
      "outputs": [
        {
          "output_type": "stream",
          "name": "stdout",
          "text": [
            "          Aralık       Veri Sayısı        CPU        GPU\n",
            "0  Küçük ölçekli      100 - 10,000       Evet      Hayır\n",
            "1   Orta ölçekli  10,000 - 100,000       Evet  Opsiyonel\n",
            "2  Büyük ölçekli  100,000 - Milyon  Opsiyonel       Evet\n",
            "3  Hiper ölçekli   Milyon - Milyar      Hayır       Evet\n",
            "4       Exascale  Milyar - Trilyon      Hayır       Evet\n"
          ]
        }
      ]
    },
    {
      "cell_type": "markdown",
      "source": [
        "### Kütüphane Kurulumunda dikkat edilmesi gereken en önemli konu:\n",
        "Genel kullanım bakımından python kütüphanesi kurucağımız zaman dikkat edilmesi gereken iki yapı bulunmaktadır. Bu yapılar \"pip\" ve \"pip3\"'tür.\n",
        "\n",
        "pip yapısı -> Python 2.x sürümlerini destekler.\n",
        "\n",
        "pip3 yapısı -> Python 3.x sürümlerini destekler."
      ],
      "metadata": {
        "id": "GcE6tkMBT-tR"
      }
    },
    {
      "cell_type": "markdown",
      "source": [
        "# Karmaşıklık Matrisinden, sistemin doğruluğunu bulacağımız formül\n",
        "\n",
        "- Dogruluk = TP+TN+FP+FN / TP+TN 'dir.\n",
        "\n",
        "Örneğin: TP = 50, TN = 40, FP = 5, FN = 5 ise; Dogruluk = 50 + 40 + 5 + 5 / 50 + 40 --> 0.9 -> % 90 olarak hesaplanmaktadır.\n",
        "\n",
        "%90 Model Doğruluk Oranı - %10 Modelin Hata Oranı 'dır.\n",
        "\n",
        "### Hata oranını azaltmak için\n",
        "\n",
        "-*Modelin iyileştirilmesi*\n",
        "\n",
        "-*Veri sayısının arttırılması*\n",
        "\n",
        "-*Eğitim adım sayısının değiştirilmesi*\n",
        "\n",
        "-*Veri seti içerisindeki farklı değişlenlerin - özelliklerin algoritmaya dahil edilmesi.*"
      ],
      "metadata": {
        "id": "ONmIq45-wjSk"
      }
    },
    {
      "cell_type": "code",
      "source": [
        "import pandas as pd\n",
        "\n",
        "## -- Doğru Pozitif (TP), Doğru Negatif (TN), Yanlış Pozitif (FP), Yanlış Negatif (FN)\n",
        "matris_bilgisi = {\n",
        "    \"Real Positive\": [\"True Positive (TP)\", \"False Negative (FN)\"],\n",
        "    \"Real Negative\": [\"False Positive (FP)\", \"True Negative (TN)\"]\n",
        "}\n",
        "\n",
        "## -- DataFrame oluşturma\n",
        "matris = pd.DataFrame(matris_bilgisi, index=[\"Forecast Positive\", \"Forecast Negative\"])\n",
        "\n",
        "## -- Tabloyu gösterme\n",
        "print(matris)"
      ],
      "metadata": {
        "colab": {
          "base_uri": "https://localhost:8080/"
        },
        "id": "k7mFIoM7UCXN",
        "outputId": "b20e6bf4-77db-43d2-9df2-6405c23e0ed6"
      },
      "execution_count": 9,
      "outputs": [
        {
          "output_type": "stream",
          "name": "stdout",
          "text": [
            "                         Real Positive        Real Negative\n",
            "Forecast Positive   True Positive (TP)  False Positive (FP)\n",
            "Forecast Negative  False Negative (FN)   True Negative (TN)\n"
          ]
        }
      ]
    },
    {
      "cell_type": "markdown",
      "source": [
        "# Scikit-Learn<>"
      ],
      "metadata": {
        "id": "O9HOM4f0xgRR"
      }
    },
    {
      "cell_type": "code",
      "source": [
        "!pip install -U scikit-learn ## -- scikit-learn kütüphanesinin dahil edilmesi ve veri setinin işleme alınması"
      ],
      "metadata": {
        "colab": {
          "base_uri": "https://localhost:8080/"
        },
        "id": "PyvLBtNLx9MV",
        "outputId": "f6097d7b-c9e3-4a9a-d1ec-cda456576fcb"
      },
      "execution_count": 10,
      "outputs": [
        {
          "output_type": "stream",
          "name": "stdout",
          "text": [
            "Requirement already satisfied: scikit-learn in /usr/local/lib/python3.10/dist-packages (1.5.2)\n",
            "Requirement already satisfied: numpy>=1.19.5 in /usr/local/lib/python3.10/dist-packages (from scikit-learn) (1.26.4)\n",
            "Requirement already satisfied: scipy>=1.6.0 in /usr/local/lib/python3.10/dist-packages (from scikit-learn) (1.13.1)\n",
            "Requirement already satisfied: joblib>=1.2.0 in /usr/local/lib/python3.10/dist-packages (from scikit-learn) (1.4.2)\n",
            "Requirement already satisfied: threadpoolctl>=3.1.0 in /usr/local/lib/python3.10/dist-packages (from scikit-learn) (3.5.0)\n"
          ]
        }
      ]
    },
    {
      "cell_type": "code",
      "source": [
        "from sklearn.datasets import fetch_california_housing ## -- Kaliforniya'daki konut verilerini içeren bir veri setini yükler. Scikit-learn kütüphanesinden bir fonksiyondur\n",
        "import pandas as pd"
      ],
      "metadata": {
        "id": "OCFLTMS1yKt2"
      },
      "execution_count": 11,
      "outputs": []
    },
    {
      "cell_type": "code",
      "source": [
        "housing = fetch_california_housing() ## -- California Housing veri setini yükleme"
      ],
      "metadata": {
        "id": "sRajmCl-yZh4"
      },
      "execution_count": 12,
      "outputs": []
    },
    {
      "cell_type": "code",
      "source": [
        "## -- Özellikleri ve hedef değişkeni almak\n",
        "X = housing.data  ## -- Bağımsız değişkenler (özellikler)\n",
        "y = housing.target  ## -- Bağımlı değişken (fiyatlar)\n",
        "\n",
        "## -- Verileri bir DataFrame'e dönüştürme\n",
        "df = pd.DataFrame(X, columns=housing.feature_names)\n",
        "df['PRICE'] = y\n",
        "\n",
        "print(df.head()) ## -- İlk birkaç satırı görüntüleme"
      ],
      "metadata": {
        "colab": {
          "base_uri": "https://localhost:8080/"
        },
        "id": "3qwtLmDoyn4j",
        "outputId": "168f6737-1a2a-48e6-fbfc-ca0ef877df87"
      },
      "execution_count": 14,
      "outputs": [
        {
          "output_type": "stream",
          "name": "stdout",
          "text": [
            "   MedInc  HouseAge  AveRooms  AveBedrms  Population  AveOccup  Latitude  \\\n",
            "0  8.3252      41.0  6.984127   1.023810       322.0  2.555556     37.88   \n",
            "1  8.3014      21.0  6.238137   0.971880      2401.0  2.109842     37.86   \n",
            "2  7.2574      52.0  8.288136   1.073446       496.0  2.802260     37.85   \n",
            "3  5.6431      52.0  5.817352   1.073059       558.0  2.547945     37.85   \n",
            "4  3.8462      52.0  6.281853   1.081081       565.0  2.181467     37.85   \n",
            "\n",
            "   Longitude  PRICE  \n",
            "0    -122.23  4.526  \n",
            "1    -122.22  3.585  \n",
            "2    -122.24  3.521  \n",
            "3    -122.25  3.413  \n",
            "4    -122.25  3.422  \n"
          ]
        }
      ]
    },
    {
      "cell_type": "markdown",
      "source": [
        "#### cpu-gpu açıklaması için kullanılan bilgi link : https://www.hosting.com.tr/bilgi-bankasi/gpu-nedir/"
      ],
      "metadata": {
        "id": "QJf8f54ezVth"
      }
    }
  ],
  "metadata": {
    "colab": {
      "provenance": [],
      "collapsed_sections": [
        "rggCoepcOVhK",
        "ONmIq45-wjSk"
      ]
    },
    "kernelspec": {
      "display_name": "Python 3",
      "name": "python3"
    },
    "language_info": {
      "name": "python"
    }
  },
  "nbformat": 4,
  "nbformat_minor": 0
}